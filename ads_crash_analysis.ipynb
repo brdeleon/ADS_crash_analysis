{
 "cells": [
  {
   "cell_type": "code",
   "execution_count": 2,
   "id": "3815304c",
   "metadata": {},
   "outputs": [],
   "source": [
    "# importing libraries\n",
    "import pandas as pd\n",
    "import numpy as np\n",
    "from scipy import stats\n",
    "from sklearn.datasets import make_regression\n",
    "import matplotlib.pyplot as plt\n",
    "from matplotlib import ticker\n",
    "%matplotlib inline\n",
    "pd.options.mode.chained_assignment = None\n",
    "import seaborn as sns\n",
    "color = sns.color_palette()\n",
    "plt.style.use('seaborn-notebook')\n",
    "from yellowbrick.regressor import ResidualsPlot\n",
    "import statsmodels.api as sm\n",
    "from statsmodels.api import OLS\n",
    "from pandas_profiling import ProfileReport\n",
    "from sklearn.dummy import DummyClassifier\n",
    "from sklearn.linear_model import Ridge, LinearRegression, LogisticRegression\n",
    "from sklearn.tree import DecisionTreeClassifier, plot_tree\n",
    "from sklearn.model_selection import train_test_split, cross_validate\n",
    "from sklearn.dummy import DummyRegressor\n",
    "from sklearn.pipeline import make_pipeline, Pipeline\n",
    "from sklearn.preprocessing import StandardScaler, OneHotEncoder, PolynomialFeatures\n",
    "from sklearn.compose import ColumnTransformer, make_column_transformer\n",
    "from sklearn.impute import SimpleImputer\n",
    "from sklearn.ensemble import RandomForestClassifier, GradientBoostingClassifier\n",
    "from sklearn.metrics import mean_squared_error, make_scorer, r2_score\n",
    "from matplotlib import pyplot as plt\n",
    "from imblearn.over_sampling import SMOTE\n",
    "from imblearn.pipeline import Pipeline as ImPipeline\n",
    "from imblearn.pipeline import Pipeline as imbPipeline\n",
    "from imblearn.under_sampling import RandomUnderSampler\n",
    "from imblearn.over_sampling import RandomOverSampler,SMOTE, ADASYN"
   ]
  },
  {
   "cell_type": "code",
   "execution_count": 3,
   "id": "7355e193",
   "metadata": {},
   "outputs": [
    {
     "data": {
      "text/html": [
       "<div>\n",
       "<style scoped>\n",
       "    .dataframe tbody tr th:only-of-type {\n",
       "        vertical-align: middle;\n",
       "    }\n",
       "\n",
       "    .dataframe tbody tr th {\n",
       "        vertical-align: top;\n",
       "    }\n",
       "\n",
       "    .dataframe thead th {\n",
       "        text-align: right;\n",
       "    }\n",
       "</style>\n",
       "<table border=\"1\" class=\"dataframe\">\n",
       "  <thead>\n",
       "    <tr style=\"text-align: right;\">\n",
       "      <th></th>\n",
       "      <th>Report ID</th>\n",
       "      <th>Report Version</th>\n",
       "      <th>Reporting Entity</th>\n",
       "      <th>Report Type</th>\n",
       "      <th>Report Month</th>\n",
       "      <th>Report Year</th>\n",
       "      <th>Report Submission Date</th>\n",
       "      <th>VIN</th>\n",
       "      <th>VIN - Unknown</th>\n",
       "      <th>Serial Number</th>\n",
       "      <th>...</th>\n",
       "      <th>Investigating Officer Name</th>\n",
       "      <th>Inv. Officer Name - Unknown</th>\n",
       "      <th>Investigating Officer Phone</th>\n",
       "      <th>Inv. Officer Phone - Unknown</th>\n",
       "      <th>Investigating Officer Email</th>\n",
       "      <th>Inv. Officer Email - Unknown</th>\n",
       "      <th>Within ODD?</th>\n",
       "      <th>Within ODD? - CBI</th>\n",
       "      <th>Narrative</th>\n",
       "      <th>Narrative - CBI?</th>\n",
       "    </tr>\n",
       "  </thead>\n",
       "  <tbody>\n",
       "    <tr>\n",
       "      <th>0</th>\n",
       "      <td>540-4671</td>\n",
       "      <td>1</td>\n",
       "      <td>General Motors, LLC</td>\n",
       "      <td>Monthly</td>\n",
       "      <td>12.0</td>\n",
       "      <td>2022.0</td>\n",
       "      <td>JAN-2023</td>\n",
       "      <td>5G21A6P06N4</td>\n",
       "      <td></td>\n",
       "      <td>NaN</td>\n",
       "      <td>...</td>\n",
       "      <td>NaN</td>\n",
       "      <td></td>\n",
       "      <td>NaN</td>\n",
       "      <td></td>\n",
       "      <td>NaN</td>\n",
       "      <td></td>\n",
       "      <td>Unknown, see Narrative</td>\n",
       "      <td></td>\n",
       "      <td>On January 13, 2023 GM Cruise Holdings LLC (\"C...</td>\n",
       "      <td>NaN</td>\n",
       "    </tr>\n",
       "    <tr>\n",
       "      <th>1</th>\n",
       "      <td>540-4670</td>\n",
       "      <td>1</td>\n",
       "      <td>General Motors, LLC</td>\n",
       "      <td>Monthly</td>\n",
       "      <td>12.0</td>\n",
       "      <td>2022.0</td>\n",
       "      <td>JAN-2023</td>\n",
       "      <td>5G21A6P00P4</td>\n",
       "      <td></td>\n",
       "      <td>NaN</td>\n",
       "      <td>...</td>\n",
       "      <td>[MAY CONTAIN PERSONALLY IDENTIFIABLE INFORMATION]</td>\n",
       "      <td></td>\n",
       "      <td>NaN</td>\n",
       "      <td>Y</td>\n",
       "      <td>NaN</td>\n",
       "      <td>Y</td>\n",
       "      <td>Unknown, see Narrative</td>\n",
       "      <td></td>\n",
       "      <td>On January 13, 2023 GM Cruise Holdings LLC (\"C...</td>\n",
       "      <td>NaN</td>\n",
       "    </tr>\n",
       "    <tr>\n",
       "      <th>2</th>\n",
       "      <td>30412-4642</td>\n",
       "      <td>1</td>\n",
       "      <td>Cruise LLC</td>\n",
       "      <td>Monthly</td>\n",
       "      <td>12.0</td>\n",
       "      <td>2022.0</td>\n",
       "      <td>JAN-2023</td>\n",
       "      <td>5G21A6P06N4</td>\n",
       "      <td></td>\n",
       "      <td>NaN</td>\n",
       "      <td>...</td>\n",
       "      <td>NaN</td>\n",
       "      <td></td>\n",
       "      <td>NaN</td>\n",
       "      <td></td>\n",
       "      <td>NaN</td>\n",
       "      <td></td>\n",
       "      <td>[REDACTED, MAY CONTAIN CONFIDENTIAL BUSINESS I...</td>\n",
       "      <td>Y</td>\n",
       "      <td>A Cruise autonomous vehicle (\"Cruise AV\"), ope...</td>\n",
       "      <td>Y</td>\n",
       "    </tr>\n",
       "    <tr>\n",
       "      <th>3</th>\n",
       "      <td>30412-4640</td>\n",
       "      <td>1</td>\n",
       "      <td>Cruise LLC</td>\n",
       "      <td>Monthly</td>\n",
       "      <td>12.0</td>\n",
       "      <td>2022.0</td>\n",
       "      <td>JAN-2023</td>\n",
       "      <td>5G21A6P00P4</td>\n",
       "      <td></td>\n",
       "      <td>NaN</td>\n",
       "      <td>...</td>\n",
       "      <td>[MAY CONTAIN PERSONALLY IDENTIFIABLE INFORMATION]</td>\n",
       "      <td></td>\n",
       "      <td>NaN</td>\n",
       "      <td>Y</td>\n",
       "      <td>NaN</td>\n",
       "      <td>Y</td>\n",
       "      <td>[REDACTED, MAY CONTAIN CONFIDENTIAL BUSINESS I...</td>\n",
       "      <td>Y</td>\n",
       "      <td>A Cruise autonomous vehicle (\"Cruise AV\"), ope...</td>\n",
       "      <td>Y</td>\n",
       "    </tr>\n",
       "    <tr>\n",
       "      <th>4</th>\n",
       "      <td>28349-4648</td>\n",
       "      <td>1</td>\n",
       "      <td>Lucid USA, Inc.</td>\n",
       "      <td>1-Day</td>\n",
       "      <td>NaN</td>\n",
       "      <td>NaN</td>\n",
       "      <td>JAN-2023</td>\n",
       "      <td>50EA1GBA8NA</td>\n",
       "      <td></td>\n",
       "      <td>NaN</td>\n",
       "      <td>...</td>\n",
       "      <td>NaN</td>\n",
       "      <td>Y</td>\n",
       "      <td>NaN</td>\n",
       "      <td>Y</td>\n",
       "      <td>NaN</td>\n",
       "      <td>Y</td>\n",
       "      <td>[REDACTED, MAY CONTAIN CONFIDENTIAL BUSINESS I...</td>\n",
       "      <td>Y</td>\n",
       "      <td>Lucid has received telematics and notification...</td>\n",
       "      <td>NaN</td>\n",
       "    </tr>\n",
       "    <tr>\n",
       "      <th>513</th>\n",
       "      <td>30270-1</td>\n",
       "      <td>2</td>\n",
       "      <td>Waymo LLC</td>\n",
       "      <td>10-Day Update</td>\n",
       "      <td>NaN</td>\n",
       "      <td>NaN</td>\n",
       "      <td>JUL-2021</td>\n",
       "      <td>2C4RC1K76HR</td>\n",
       "      <td></td>\n",
       "      <td>NaN</td>\n",
       "      <td>...</td>\n",
       "      <td>NaN</td>\n",
       "      <td></td>\n",
       "      <td>NaN</td>\n",
       "      <td></td>\n",
       "      <td>NaN</td>\n",
       "      <td></td>\n",
       "      <td>Yes</td>\n",
       "      <td></td>\n",
       "      <td>No update to narrative. Please refer to Waymo ...</td>\n",
       "      <td>NaN</td>\n",
       "    </tr>\n",
       "    <tr>\n",
       "      <th>514</th>\n",
       "      <td>30531-6</td>\n",
       "      <td>1</td>\n",
       "      <td>Transdev Alternative Services</td>\n",
       "      <td>1-Day</td>\n",
       "      <td>NaN</td>\n",
       "      <td>NaN</td>\n",
       "      <td>JUL-2021</td>\n",
       "      <td>SADHW2S14M1</td>\n",
       "      <td></td>\n",
       "      <td>NaN</td>\n",
       "      <td>...</td>\n",
       "      <td>NaN</td>\n",
       "      <td>Y</td>\n",
       "      <td>NaN</td>\n",
       "      <td>Y</td>\n",
       "      <td>NaN</td>\n",
       "      <td>Y</td>\n",
       "      <td>Yes</td>\n",
       "      <td></td>\n",
       "      <td>On July [XXX], 2021 at 4:47 PM PDT, a Waymo Au...</td>\n",
       "      <td>NaN</td>\n",
       "    </tr>\n",
       "    <tr>\n",
       "      <th>515</th>\n",
       "      <td>30270-4</td>\n",
       "      <td>1</td>\n",
       "      <td>Waymo LLC</td>\n",
       "      <td>1-Day</td>\n",
       "      <td>NaN</td>\n",
       "      <td>NaN</td>\n",
       "      <td>JUL-2021</td>\n",
       "      <td>SADHW2S14M1</td>\n",
       "      <td></td>\n",
       "      <td>NaN</td>\n",
       "      <td>...</td>\n",
       "      <td>NaN</td>\n",
       "      <td>Y</td>\n",
       "      <td>NaN</td>\n",
       "      <td>Y</td>\n",
       "      <td>NaN</td>\n",
       "      <td>Y</td>\n",
       "      <td>Yes</td>\n",
       "      <td></td>\n",
       "      <td>On July [XXX], 2021 at 4:47 PM PDT, a Waymo Au...</td>\n",
       "      <td>NaN</td>\n",
       "    </tr>\n",
       "    <tr>\n",
       "      <th>516</th>\n",
       "      <td>30531-2</td>\n",
       "      <td>1</td>\n",
       "      <td>Transdev Alternative Services</td>\n",
       "      <td>1-Day</td>\n",
       "      <td>NaN</td>\n",
       "      <td>NaN</td>\n",
       "      <td>JUL-2021</td>\n",
       "      <td>2C4RC1K76HR</td>\n",
       "      <td></td>\n",
       "      <td>NaN</td>\n",
       "      <td>...</td>\n",
       "      <td>NaN</td>\n",
       "      <td></td>\n",
       "      <td>NaN</td>\n",
       "      <td></td>\n",
       "      <td>NaN</td>\n",
       "      <td></td>\n",
       "      <td>Yes</td>\n",
       "      <td></td>\n",
       "      <td>On July [XXX], 2021 at 3:10 PM PDT, a Waymo Au...</td>\n",
       "      <td>NaN</td>\n",
       "    </tr>\n",
       "    <tr>\n",
       "      <th>517</th>\n",
       "      <td>30270-1</td>\n",
       "      <td>1</td>\n",
       "      <td>Waymo LLC</td>\n",
       "      <td>1-Day</td>\n",
       "      <td>NaN</td>\n",
       "      <td>NaN</td>\n",
       "      <td>JUL-2021</td>\n",
       "      <td>2C4RC1K76HR</td>\n",
       "      <td></td>\n",
       "      <td>NaN</td>\n",
       "      <td>...</td>\n",
       "      <td>NaN</td>\n",
       "      <td></td>\n",
       "      <td>NaN</td>\n",
       "      <td></td>\n",
       "      <td>NaN</td>\n",
       "      <td></td>\n",
       "      <td>Yes</td>\n",
       "      <td></td>\n",
       "      <td>On July [XXX], 2021 at 3:10 PM PDT, a Waymo Au...</td>\n",
       "      <td>NaN</td>\n",
       "    </tr>\n",
       "  </tbody>\n",
       "</table>\n",
       "<p>10 rows × 122 columns</p>\n",
       "</div>"
      ],
      "text/plain": [
       "      Report ID  Report Version               Reporting Entity    Report Type  \\\n",
       "0      540-4671               1            General Motors, LLC        Monthly   \n",
       "1      540-4670               1            General Motors, LLC        Monthly   \n",
       "2    30412-4642               1                     Cruise LLC        Monthly   \n",
       "3    30412-4640               1                     Cruise LLC        Monthly   \n",
       "4    28349-4648               1                Lucid USA, Inc.          1-Day   \n",
       "513     30270-1               2                      Waymo LLC  10-Day Update   \n",
       "514     30531-6               1  Transdev Alternative Services          1-Day   \n",
       "515     30270-4               1                      Waymo LLC          1-Day   \n",
       "516     30531-2               1  Transdev Alternative Services          1-Day   \n",
       "517     30270-1               1                      Waymo LLC          1-Day   \n",
       "\n",
       "     Report Month  Report Year Report Submission Date          VIN  \\\n",
       "0            12.0       2022.0               JAN-2023  5G21A6P06N4   \n",
       "1            12.0       2022.0               JAN-2023  5G21A6P00P4   \n",
       "2            12.0       2022.0               JAN-2023  5G21A6P06N4   \n",
       "3            12.0       2022.0               JAN-2023  5G21A6P00P4   \n",
       "4             NaN          NaN               JAN-2023  50EA1GBA8NA   \n",
       "513           NaN          NaN               JUL-2021  2C4RC1K76HR   \n",
       "514           NaN          NaN               JUL-2021  SADHW2S14M1   \n",
       "515           NaN          NaN               JUL-2021  SADHW2S14M1   \n",
       "516           NaN          NaN               JUL-2021  2C4RC1K76HR   \n",
       "517           NaN          NaN               JUL-2021  2C4RC1K76HR   \n",
       "\n",
       "    VIN - Unknown Serial Number  ...  \\\n",
       "0                           NaN  ...   \n",
       "1                           NaN  ...   \n",
       "2                           NaN  ...   \n",
       "3                           NaN  ...   \n",
       "4                           NaN  ...   \n",
       "513                         NaN  ...   \n",
       "514                         NaN  ...   \n",
       "515                         NaN  ...   \n",
       "516                         NaN  ...   \n",
       "517                         NaN  ...   \n",
       "\n",
       "                            Investigating Officer Name  \\\n",
       "0                                                  NaN   \n",
       "1    [MAY CONTAIN PERSONALLY IDENTIFIABLE INFORMATION]   \n",
       "2                                                  NaN   \n",
       "3    [MAY CONTAIN PERSONALLY IDENTIFIABLE INFORMATION]   \n",
       "4                                                  NaN   \n",
       "513                                                NaN   \n",
       "514                                                NaN   \n",
       "515                                                NaN   \n",
       "516                                                NaN   \n",
       "517                                                NaN   \n",
       "\n",
       "    Inv. Officer Name - Unknown Investigating Officer Phone  \\\n",
       "0                                                       NaN   \n",
       "1                                                       NaN   \n",
       "2                                                       NaN   \n",
       "3                                                       NaN   \n",
       "4                             Y                         NaN   \n",
       "513                                                     NaN   \n",
       "514                           Y                         NaN   \n",
       "515                           Y                         NaN   \n",
       "516                                                     NaN   \n",
       "517                                                     NaN   \n",
       "\n",
       "     Inv. Officer Phone - Unknown Investigating Officer Email  \\\n",
       "0                                                         NaN   \n",
       "1                               Y                         NaN   \n",
       "2                                                         NaN   \n",
       "3                               Y                         NaN   \n",
       "4                               Y                         NaN   \n",
       "513                                                       NaN   \n",
       "514                             Y                         NaN   \n",
       "515                             Y                         NaN   \n",
       "516                                                       NaN   \n",
       "517                                                       NaN   \n",
       "\n",
       "    Inv. Officer Email - Unknown  \\\n",
       "0                                  \n",
       "1                              Y   \n",
       "2                                  \n",
       "3                              Y   \n",
       "4                              Y   \n",
       "513                                \n",
       "514                            Y   \n",
       "515                            Y   \n",
       "516                                \n",
       "517                                \n",
       "\n",
       "                                           Within ODD? Within ODD? - CBI  \\\n",
       "0                               Unknown, see Narrative                     \n",
       "1                               Unknown, see Narrative                     \n",
       "2    [REDACTED, MAY CONTAIN CONFIDENTIAL BUSINESS I...                 Y   \n",
       "3    [REDACTED, MAY CONTAIN CONFIDENTIAL BUSINESS I...                 Y   \n",
       "4    [REDACTED, MAY CONTAIN CONFIDENTIAL BUSINESS I...                 Y   \n",
       "513                                                Yes                     \n",
       "514                                                Yes                     \n",
       "515                                                Yes                     \n",
       "516                                                Yes                     \n",
       "517                                                Yes                     \n",
       "\n",
       "                                             Narrative Narrative - CBI?  \n",
       "0    On January 13, 2023 GM Cruise Holdings LLC (\"C...              NaN  \n",
       "1    On January 13, 2023 GM Cruise Holdings LLC (\"C...              NaN  \n",
       "2    A Cruise autonomous vehicle (\"Cruise AV\"), ope...                Y  \n",
       "3    A Cruise autonomous vehicle (\"Cruise AV\"), ope...                Y  \n",
       "4    Lucid has received telematics and notification...              NaN  \n",
       "513  No update to narrative. Please refer to Waymo ...              NaN  \n",
       "514  On July [XXX], 2021 at 4:47 PM PDT, a Waymo Au...              NaN  \n",
       "515  On July [XXX], 2021 at 4:47 PM PDT, a Waymo Au...              NaN  \n",
       "516  On July [XXX], 2021 at 3:10 PM PDT, a Waymo Au...              NaN  \n",
       "517  On July [XXX], 2021 at 3:10 PM PDT, a Waymo Au...              NaN  \n",
       "\n",
       "[10 rows x 122 columns]"
      ]
     },
     "execution_count": 3,
     "metadata": {},
     "output_type": "execute_result"
    }
   ],
   "source": [
    "# importing datasets\n",
    "df = pd.read_csv('./data/SGO-2021-01_Incident_Reports_ADS.csv')\n",
    "# previewing first 5 rows and last 5 rows of the dataset\n",
    "df.head().append(df.tail())"
   ]
  },
  {
   "cell_type": "code",
   "execution_count": 4,
   "id": "52ea4f0d",
   "metadata": {},
   "outputs": [
    {
     "name": "stdout",
     "output_type": "stream",
     "text": [
      "<class 'pandas.core.frame.DataFrame'>\n",
      "RangeIndex: 518 entries, 0 to 517\n",
      "Columns: 122 entries, Report ID to Narrative - CBI?\n",
      "dtypes: float64(7), int64(1), object(114)\n",
      "memory usage: 493.8+ KB\n"
     ]
    }
   ],
   "source": [
    "df.info()"
   ]
  },
  {
   "cell_type": "code",
   "execution_count": 5,
   "id": "aee9c91a",
   "metadata": {},
   "outputs": [
    {
     "data": {
      "text/plain": [
       "(518, 122)"
      ]
     },
     "execution_count": 5,
     "metadata": {},
     "output_type": "execute_result"
    }
   ],
   "source": [
    "df.shape"
   ]
  },
  {
   "cell_type": "code",
   "execution_count": 6,
   "id": "6bba4b07",
   "metadata": {},
   "outputs": [],
   "source": [
    "# calculating nulls\n",
    "nulls = df.isnull().sum()"
   ]
  },
  {
   "cell_type": "code",
   "execution_count": 7,
   "id": "969e2b5b",
   "metadata": {},
   "outputs": [
    {
     "data": {
      "text/html": [
       "<style  type=\"text/css\" >\n",
       "</style><table id=\"T_7bd46726_b712_11ed_8ef0_acde48001122\" ><thead>    <tr>        <th class=\"blank level0\" ></th>        <th class=\"col_heading level0 col0\" >% Null</th>    </tr></thead><tbody>\n",
       "                <tr>\n",
       "                        <th id=\"T_7bd46726_b712_11ed_8ef0_acde48001122level0_row0\" class=\"row_heading level0 row0\" >Weather - Other Text</th>\n",
       "                        <td id=\"T_7bd46726_b712_11ed_8ef0_acde48001122row0_col0\" class=\"data row0 col0\" >1.000000</td>\n",
       "            </tr>\n",
       "            <tr>\n",
       "                        <th id=\"T_7bd46726_b712_11ed_8ef0_acde48001122level0_row1\" class=\"row_heading level0 row1\" >Investigating Officer Email</th>\n",
       "                        <td id=\"T_7bd46726_b712_11ed_8ef0_acde48001122row1_col0\" class=\"data row1 col0\" >0.969112</td>\n",
       "            </tr>\n",
       "            <tr>\n",
       "                        <th id=\"T_7bd46726_b712_11ed_8ef0_acde48001122level0_row2\" class=\"row_heading level0 row2\" >Serial Number</th>\n",
       "                        <td id=\"T_7bd46726_b712_11ed_8ef0_acde48001122row2_col0\" class=\"data row2 col0\" >0.965251</td>\n",
       "            </tr>\n",
       "            <tr>\n",
       "                        <th id=\"T_7bd46726_b712_11ed_8ef0_acde48001122level0_row3\" class=\"row_heading level0 row3\" >Source - Other Text</th>\n",
       "                        <td id=\"T_7bd46726_b712_11ed_8ef0_acde48001122row3_col0\" class=\"data row3 col0\" >0.959459</td>\n",
       "            </tr>\n",
       "            <tr>\n",
       "                        <th id=\"T_7bd46726_b712_11ed_8ef0_acde48001122level0_row4\" class=\"row_heading level0 row4\" >Investigating Officer Phone</th>\n",
       "                        <td id=\"T_7bd46726_b712_11ed_8ef0_acde48001122row4_col0\" class=\"data row4 col0\" >0.940154</td>\n",
       "            </tr>\n",
       "            <tr>\n",
       "                        <th id=\"T_7bd46726_b712_11ed_8ef0_acde48001122level0_row5\" class=\"row_heading level0 row5\" >Investigating Officer Name</th>\n",
       "                        <td id=\"T_7bd46726_b712_11ed_8ef0_acde48001122row5_col0\" class=\"data row5 col0\" >0.774131</td>\n",
       "            </tr>\n",
       "            <tr>\n",
       "                        <th id=\"T_7bd46726_b712_11ed_8ef0_acde48001122level0_row6\" class=\"row_heading level0 row6\" >Narrative - CBI?</th>\n",
       "                        <td id=\"T_7bd46726_b712_11ed_8ef0_acde48001122row6_col0\" class=\"data row6 col0\" >0.764479</td>\n",
       "            </tr>\n",
       "            <tr>\n",
       "                        <th id=\"T_7bd46726_b712_11ed_8ef0_acde48001122level0_row7\" class=\"row_heading level0 row7\" >Investigating Agency</th>\n",
       "                        <td id=\"T_7bd46726_b712_11ed_8ef0_acde48001122row7_col0\" class=\"data row7 col0\" >0.708494</td>\n",
       "            </tr>\n",
       "            <tr>\n",
       "                        <th id=\"T_7bd46726_b712_11ed_8ef0_acde48001122level0_row8\" class=\"row_heading level0 row8\" >Report Year</th>\n",
       "                        <td id=\"T_7bd46726_b712_11ed_8ef0_acde48001122row8_col0\" class=\"data row8 col0\" >0.511583</td>\n",
       "            </tr>\n",
       "            <tr>\n",
       "                        <th id=\"T_7bd46726_b712_11ed_8ef0_acde48001122level0_row9\" class=\"row_heading level0 row9\" >Report Month</th>\n",
       "                        <td id=\"T_7bd46726_b712_11ed_8ef0_acde48001122row9_col0\" class=\"data row9 col0\" >0.511583</td>\n",
       "            </tr>\n",
       "            <tr>\n",
       "                        <th id=\"T_7bd46726_b712_11ed_8ef0_acde48001122level0_row10\" class=\"row_heading level0 row10\" >ADAS/ADS Version</th>\n",
       "                        <td id=\"T_7bd46726_b712_11ed_8ef0_acde48001122row10_col0\" class=\"data row10 col0\" >0.223938</td>\n",
       "            </tr>\n",
       "            <tr>\n",
       "                        <th id=\"T_7bd46726_b712_11ed_8ef0_acde48001122level0_row11\" class=\"row_heading level0 row11\" >Latitude</th>\n",
       "                        <td id=\"T_7bd46726_b712_11ed_8ef0_acde48001122row11_col0\" class=\"data row11 col0\" >0.146718</td>\n",
       "            </tr>\n",
       "            <tr>\n",
       "                        <th id=\"T_7bd46726_b712_11ed_8ef0_acde48001122level0_row12\" class=\"row_heading level0 row12\" >Longitude</th>\n",
       "                        <td id=\"T_7bd46726_b712_11ed_8ef0_acde48001122row12_col0\" class=\"data row12 col0\" >0.146718</td>\n",
       "            </tr>\n",
       "            <tr>\n",
       "                        <th id=\"T_7bd46726_b712_11ed_8ef0_acde48001122level0_row13\" class=\"row_heading level0 row13\" >CP Was Vehicle Towed?</th>\n",
       "                        <td id=\"T_7bd46726_b712_11ed_8ef0_acde48001122row13_col0\" class=\"data row13 col0\" >0.138996</td>\n",
       "            </tr>\n",
       "            <tr>\n",
       "                        <th id=\"T_7bd46726_b712_11ed_8ef0_acde48001122level0_row14\" class=\"row_heading level0 row14\" >CP Any Air Bags Deployed?</th>\n",
       "                        <td id=\"T_7bd46726_b712_11ed_8ef0_acde48001122row14_col0\" class=\"data row14 col0\" >0.138996</td>\n",
       "            </tr>\n",
       "            <tr>\n",
       "                        <th id=\"T_7bd46726_b712_11ed_8ef0_acde48001122level0_row15\" class=\"row_heading level0 row15\" >Zip Code</th>\n",
       "                        <td id=\"T_7bd46726_b712_11ed_8ef0_acde48001122row15_col0\" class=\"data row15 col0\" >0.061776</td>\n",
       "            </tr>\n",
       "            <tr>\n",
       "                        <th id=\"T_7bd46726_b712_11ed_8ef0_acde48001122level0_row16\" class=\"row_heading level0 row16\" >Posted Speed Limit (MPH)</th>\n",
       "                        <td id=\"T_7bd46726_b712_11ed_8ef0_acde48001122row16_col0\" class=\"data row16 col0\" >0.052124</td>\n",
       "            </tr>\n",
       "            <tr>\n",
       "                        <th id=\"T_7bd46726_b712_11ed_8ef0_acde48001122level0_row17\" class=\"row_heading level0 row17\" >CP Pre-Crash Movement</th>\n",
       "                        <td id=\"T_7bd46726_b712_11ed_8ef0_acde48001122row17_col0\" class=\"data row17 col0\" >0.046332</td>\n",
       "            </tr>\n",
       "            <tr>\n",
       "                        <th id=\"T_7bd46726_b712_11ed_8ef0_acde48001122level0_row18\" class=\"row_heading level0 row18\" >SV Precrash Speed (MPH)</th>\n",
       "                        <td id=\"T_7bd46726_b712_11ed_8ef0_acde48001122row18_col0\" class=\"data row18 col0\" >0.036680</td>\n",
       "            </tr>\n",
       "            <tr>\n",
       "                        <th id=\"T_7bd46726_b712_11ed_8ef0_acde48001122level0_row19\" class=\"row_heading level0 row19\" >Mileage</th>\n",
       "                        <td id=\"T_7bd46726_b712_11ed_8ef0_acde48001122row19_col0\" class=\"data row19 col0\" >0.036680</td>\n",
       "            </tr>\n",
       "            <tr>\n",
       "                        <th id=\"T_7bd46726_b712_11ed_8ef0_acde48001122level0_row20\" class=\"row_heading level0 row20\" >Operating Entity</th>\n",
       "                        <td id=\"T_7bd46726_b712_11ed_8ef0_acde48001122row20_col0\" class=\"data row20 col0\" >0.017375</td>\n",
       "            </tr>\n",
       "            <tr>\n",
       "                        <th id=\"T_7bd46726_b712_11ed_8ef0_acde48001122level0_row21\" class=\"row_heading level0 row21\" >VIN</th>\n",
       "                        <td id=\"T_7bd46726_b712_11ed_8ef0_acde48001122row21_col0\" class=\"data row21 col0\" >0.015444</td>\n",
       "            </tr>\n",
       "            <tr>\n",
       "                        <th id=\"T_7bd46726_b712_11ed_8ef0_acde48001122level0_row22\" class=\"row_heading level0 row22\" >Incident Time (24:00)</th>\n",
       "                        <td id=\"T_7bd46726_b712_11ed_8ef0_acde48001122row22_col0\" class=\"data row22 col0\" >0.015444</td>\n",
       "            </tr>\n",
       "            <tr>\n",
       "                        <th id=\"T_7bd46726_b712_11ed_8ef0_acde48001122level0_row23\" class=\"row_heading level0 row23\" >Model Year</th>\n",
       "                        <td id=\"T_7bd46726_b712_11ed_8ef0_acde48001122row23_col0\" class=\"data row23 col0\" >0.013514</td>\n",
       "            </tr>\n",
       "            <tr>\n",
       "                        <th id=\"T_7bd46726_b712_11ed_8ef0_acde48001122level0_row24\" class=\"row_heading level0 row24\" >Address</th>\n",
       "                        <td id=\"T_7bd46726_b712_11ed_8ef0_acde48001122row24_col0\" class=\"data row24 col0\" >0.013514</td>\n",
       "            </tr>\n",
       "            <tr>\n",
       "                        <th id=\"T_7bd46726_b712_11ed_8ef0_acde48001122level0_row25\" class=\"row_heading level0 row25\" >City</th>\n",
       "                        <td id=\"T_7bd46726_b712_11ed_8ef0_acde48001122row25_col0\" class=\"data row25 col0\" >0.011583</td>\n",
       "            </tr>\n",
       "            <tr>\n",
       "                        <th id=\"T_7bd46726_b712_11ed_8ef0_acde48001122level0_row26\" class=\"row_heading level0 row26\" >Model</th>\n",
       "                        <td id=\"T_7bd46726_b712_11ed_8ef0_acde48001122row26_col0\" class=\"data row26 col0\" >0.005792</td>\n",
       "            </tr>\n",
       "            <tr>\n",
       "                        <th id=\"T_7bd46726_b712_11ed_8ef0_acde48001122level0_row27\" class=\"row_heading level0 row27\" >Highest Injury Severity</th>\n",
       "                        <td id=\"T_7bd46726_b712_11ed_8ef0_acde48001122row27_col0\" class=\"data row27 col0\" >0.003861</td>\n",
       "            </tr>\n",
       "            <tr>\n",
       "                        <th id=\"T_7bd46726_b712_11ed_8ef0_acde48001122level0_row28\" class=\"row_heading level0 row28\" >Automation System Engaged?</th>\n",
       "                        <td id=\"T_7bd46726_b712_11ed_8ef0_acde48001122row28_col0\" class=\"data row28 col0\" >0.003861</td>\n",
       "            </tr>\n",
       "            <tr>\n",
       "                        <th id=\"T_7bd46726_b712_11ed_8ef0_acde48001122level0_row29\" class=\"row_heading level0 row29\" >Within ODD?</th>\n",
       "                        <td id=\"T_7bd46726_b712_11ed_8ef0_acde48001122row29_col0\" class=\"data row29 col0\" >0.003861</td>\n",
       "            </tr>\n",
       "            <tr>\n",
       "                        <th id=\"T_7bd46726_b712_11ed_8ef0_acde48001122level0_row30\" class=\"row_heading level0 row30\" >SV Was Vehicle Towed?</th>\n",
       "                        <td id=\"T_7bd46726_b712_11ed_8ef0_acde48001122row30_col0\" class=\"data row30 col0\" >0.003861</td>\n",
       "            </tr>\n",
       "            <tr>\n",
       "                        <th id=\"T_7bd46726_b712_11ed_8ef0_acde48001122level0_row31\" class=\"row_heading level0 row31\" >Rep Ent Or Mfr Investigating?</th>\n",
       "                        <td id=\"T_7bd46726_b712_11ed_8ef0_acde48001122row31_col0\" class=\"data row31 col0\" >0.003861</td>\n",
       "            </tr>\n",
       "            <tr>\n",
       "                        <th id=\"T_7bd46726_b712_11ed_8ef0_acde48001122level0_row32\" class=\"row_heading level0 row32\" >Make</th>\n",
       "                        <td id=\"T_7bd46726_b712_11ed_8ef0_acde48001122row32_col0\" class=\"data row32 col0\" >0.003861</td>\n",
       "            </tr>\n",
       "            <tr>\n",
       "                        <th id=\"T_7bd46726_b712_11ed_8ef0_acde48001122level0_row33\" class=\"row_heading level0 row33\" >SV Any Air Bags Deployed?</th>\n",
       "                        <td id=\"T_7bd46726_b712_11ed_8ef0_acde48001122row33_col0\" class=\"data row33 col0\" >0.003861</td>\n",
       "            </tr>\n",
       "            <tr>\n",
       "                        <th id=\"T_7bd46726_b712_11ed_8ef0_acde48001122level0_row34\" class=\"row_heading level0 row34\" >SV Pre-Crash Movement</th>\n",
       "                        <td id=\"T_7bd46726_b712_11ed_8ef0_acde48001122row34_col0\" class=\"data row34 col0\" >0.003861</td>\n",
       "            </tr>\n",
       "            <tr>\n",
       "                        <th id=\"T_7bd46726_b712_11ed_8ef0_acde48001122level0_row35\" class=\"row_heading level0 row35\" >Driver / Operator Type</th>\n",
       "                        <td id=\"T_7bd46726_b712_11ed_8ef0_acde48001122row35_col0\" class=\"data row35 col0\" >0.003861</td>\n",
       "            </tr>\n",
       "            <tr>\n",
       "                        <th id=\"T_7bd46726_b712_11ed_8ef0_acde48001122level0_row36\" class=\"row_heading level0 row36\" >Property Damage?</th>\n",
       "                        <td id=\"T_7bd46726_b712_11ed_8ef0_acde48001122row36_col0\" class=\"data row36 col0\" >0.003861</td>\n",
       "            </tr>\n",
       "            <tr>\n",
       "                        <th id=\"T_7bd46726_b712_11ed_8ef0_acde48001122level0_row37\" class=\"row_heading level0 row37\" >ADS Equipped?</th>\n",
       "                        <td id=\"T_7bd46726_b712_11ed_8ef0_acde48001122row37_col0\" class=\"data row37 col0\" >0.003861</td>\n",
       "            </tr>\n",
       "            <tr>\n",
       "                        <th id=\"T_7bd46726_b712_11ed_8ef0_acde48001122level0_row38\" class=\"row_heading level0 row38\" >Roadway Surface</th>\n",
       "                        <td id=\"T_7bd46726_b712_11ed_8ef0_acde48001122row38_col0\" class=\"data row38 col0\" >0.003861</td>\n",
       "            </tr>\n",
       "            <tr>\n",
       "                        <th id=\"T_7bd46726_b712_11ed_8ef0_acde48001122level0_row39\" class=\"row_heading level0 row39\" >Roadway Type</th>\n",
       "                        <td id=\"T_7bd46726_b712_11ed_8ef0_acde48001122row39_col0\" class=\"data row39 col0\" >0.003861</td>\n",
       "            </tr>\n",
       "            <tr>\n",
       "                        <th id=\"T_7bd46726_b712_11ed_8ef0_acde48001122level0_row40\" class=\"row_heading level0 row40\" >Law Enforcement Investigating?</th>\n",
       "                        <td id=\"T_7bd46726_b712_11ed_8ef0_acde48001122row40_col0\" class=\"data row40 col0\" >0.003861</td>\n",
       "            </tr>\n",
       "            <tr>\n",
       "                        <th id=\"T_7bd46726_b712_11ed_8ef0_acde48001122level0_row41\" class=\"row_heading level0 row41\" >Incident Date</th>\n",
       "                        <td id=\"T_7bd46726_b712_11ed_8ef0_acde48001122row41_col0\" class=\"data row41 col0\" >0.003861</td>\n",
       "            </tr>\n",
       "            <tr>\n",
       "                        <th id=\"T_7bd46726_b712_11ed_8ef0_acde48001122level0_row42\" class=\"row_heading level0 row42\" >Notice Received Date</th>\n",
       "                        <td id=\"T_7bd46726_b712_11ed_8ef0_acde48001122row42_col0\" class=\"data row42 col0\" >0.003861</td>\n",
       "            </tr>\n",
       "            <tr>\n",
       "                        <th id=\"T_7bd46726_b712_11ed_8ef0_acde48001122level0_row43\" class=\"row_heading level0 row43\" >Crash With</th>\n",
       "                        <td id=\"T_7bd46726_b712_11ed_8ef0_acde48001122row43_col0\" class=\"data row43 col0\" >0.003861</td>\n",
       "            </tr>\n",
       "            <tr>\n",
       "                        <th id=\"T_7bd46726_b712_11ed_8ef0_acde48001122level0_row44\" class=\"row_heading level0 row44\" >Data Availability - No Data</th>\n",
       "                        <td id=\"T_7bd46726_b712_11ed_8ef0_acde48001122row44_col0\" class=\"data row44 col0\" >0.003861</td>\n",
       "            </tr>\n",
       "            <tr>\n",
       "                        <th id=\"T_7bd46726_b712_11ed_8ef0_acde48001122level0_row45\" class=\"row_heading level0 row45\" >Lighting</th>\n",
       "                        <td id=\"T_7bd46726_b712_11ed_8ef0_acde48001122row45_col0\" class=\"data row45 col0\" >0.003861</td>\n",
       "            </tr>\n",
       "            <tr>\n",
       "                        <th id=\"T_7bd46726_b712_11ed_8ef0_acde48001122level0_row46\" class=\"row_heading level0 row46\" >SV Were All Passengers Belted?</th>\n",
       "                        <td id=\"T_7bd46726_b712_11ed_8ef0_acde48001122row46_col0\" class=\"data row46 col0\" >0.003861</td>\n",
       "            </tr>\n",
       "            <tr>\n",
       "                        <th id=\"T_7bd46726_b712_11ed_8ef0_acde48001122level0_row47\" class=\"row_heading level0 row47\" >State</th>\n",
       "                        <td id=\"T_7bd46726_b712_11ed_8ef0_acde48001122row47_col0\" class=\"data row47 col0\" >0.003861</td>\n",
       "            </tr>\n",
       "            <tr>\n",
       "                        <th id=\"T_7bd46726_b712_11ed_8ef0_acde48001122level0_row48\" class=\"row_heading level0 row48\" >Roadway Description</th>\n",
       "                        <td id=\"T_7bd46726_b712_11ed_8ef0_acde48001122row48_col0\" class=\"data row48 col0\" >0.003861</td>\n",
       "            </tr>\n",
       "            <tr>\n",
       "                        <th id=\"T_7bd46726_b712_11ed_8ef0_acde48001122level0_row49\" class=\"row_heading level0 row49\" >Narrative</th>\n",
       "                        <td id=\"T_7bd46726_b712_11ed_8ef0_acde48001122row49_col0\" class=\"data row49 col0\" >0.001931</td>\n",
       "            </tr>\n",
       "    </tbody></table>"
      ],
      "text/plain": [
       "<pandas.io.formats.style.Styler at 0x7fc595b03fd0>"
      ]
     },
     "execution_count": 7,
     "metadata": {},
     "output_type": "execute_result"
    }
   ],
   "source": [
    "# calculating null percentage of columns with nulls\n",
    "null_percent = nulls[nulls>0] / len(df)\n",
    "null_percent.sort_values(ascending=False).to_frame('% Null').style\n",
    "# extracting"
   ]
  },
  {
   "cell_type": "code",
   "execution_count": 8,
   "id": "343dcf28",
   "metadata": {},
   "outputs": [
    {
     "data": {
      "text/plain": [
       "['Report Month',\n",
       " 'Report Year',\n",
       " 'Serial Number',\n",
       " 'ADAS/ADS Version',\n",
       " 'Source - Other Text',\n",
       " 'Latitude',\n",
       " 'Longitude',\n",
       " 'Weather - Other Text',\n",
       " 'CP Any Air Bags Deployed?',\n",
       " 'CP Was Vehicle Towed?',\n",
       " 'Investigating Agency',\n",
       " 'Investigating Officer Name',\n",
       " 'Investigating Officer Phone',\n",
       " 'Investigating Officer Email',\n",
       " 'Narrative - CBI?']"
      ]
     },
     "execution_count": 8,
     "metadata": {},
     "output_type": "execute_result"
    }
   ],
   "source": [
    "# extracting columns with excesssive nulls set at 10%\n",
    "null_columns = null_percent[null_percent>.10].index.tolist()\n",
    "null_columns"
   ]
  },
  {
   "cell_type": "code",
   "execution_count": 9,
   "id": "49b5a932",
   "metadata": {},
   "outputs": [
    {
     "name": "stdout",
     "output_type": "stream",
     "text": [
      "(518, 107)\n"
     ]
    }
   ],
   "source": [
    "# dropping column list and checking shape\n",
    "df = df.drop(columns = null_columns)\n",
    "print(df.shape)"
   ]
  },
  {
   "cell_type": "code",
   "execution_count": 10,
   "id": "ec5a7d6a",
   "metadata": {},
   "outputs": [
    {
     "data": {
      "text/plain": [
       "65"
      ]
     },
     "execution_count": 10,
     "metadata": {},
     "output_type": "execute_result"
    }
   ],
   "source": [
    "drop_col_list = ['VIN', 'Narrative', 'VIN - Unknown', 'Model Year - Unknown', 'Model - Unknown', 'Mileage', 'Mileage - Unknown', 'Operating Entity - Unknown', 'Source - Complaint/Claim', 'Source - Law Enforcement', 'Source - Field Report', 'Source - Testing', 'Source - Media', 'Source - Other', 'Incident Date - Unknown', 'Incident Time - Unknown', 'ADAS/ADS Version - Unknown', 'ADAS/ADS Version CBI', 'Source - Telematics', 'Incident Date - Unknown', 'Incident Time - Unknown', 'Longitude - Unknown', 'Address - Unknown', 'City - Unknown', 'Zip Code - Unknown', 'Posted Speed Limit - Unknown', 'Investigating Agency - Unknown', 'Notice Received Date', 'SV Pre-crash Speed - Unknown', 'SV Contact Area - Unknown', 'Data Availability - EDR', 'Data Availability - Police Rpt', 'Data Availability - Telematics', 'Data Availability - Complaints', 'Data Availability - Video', 'Data Availability - Other','Data Availability - No Data', 'Data Availability - Unknown', 'Rep Ent Or Mfr Investigating?', 'Inv. Officer Name - Unknown', 'Inv. Officer Phone - Unknown', 'Inv. Officer Email - Unknown', 'Address', 'Law Enforcement Investigating?','Report Submission Date', 'Within ODD?', 'Within ODD? - CBI', 'Report ID','Report Version','Reporting Entity','Report Type','Model Year','Same Vehicle ID','ADS Equipped?', 'Same Incident ID', 'City', 'State', 'Zip Code', 'Property Damage?', 'SV Any Air Bags Deployed?', 'SV Was Vehicle Towed?', 'Latitude - Unknown', 'Weather - Unknown', 'Weather - Other', 'CP Contact Area - Unknown'] \n",
    "len(drop_col_list)"
   ]
  },
  {
   "cell_type": "code",
   "execution_count": 11,
   "id": "5f148955",
   "metadata": {},
   "outputs": [
    {
     "name": "stdout",
     "output_type": "stream",
     "text": [
      "(518, 44)\n"
     ]
    }
   ],
   "source": [
    "# dropping column list and checking shape\n",
    "df = df.drop(columns = drop_col_list)\n",
    "print(df.shape)"
   ]
  },
  {
   "cell_type": "code",
   "execution_count": 12,
   "id": "630863d8",
   "metadata": {},
   "outputs": [
    {
     "name": "stdout",
     "output_type": "stream",
     "text": [
      "<class 'pandas.core.frame.DataFrame'>\n",
      "RangeIndex: 518 entries, 0 to 517\n",
      "Data columns (total 44 columns):\n",
      " #   Column                          Non-Null Count  Dtype  \n",
      "---  ------                          --------------  -----  \n",
      " 0   Make                            516 non-null    object \n",
      " 1   Model                           515 non-null    object \n",
      " 2   Driver / Operator Type          516 non-null    object \n",
      " 3   Automation System Engaged?      516 non-null    object \n",
      " 4   Operating Entity                509 non-null    object \n",
      " 5   Incident Date                   516 non-null    object \n",
      " 6   Incident Time (24:00)           510 non-null    object \n",
      " 7   Roadway Type                    516 non-null    object \n",
      " 8   Roadway Surface                 516 non-null    object \n",
      " 9   Roadway Description             516 non-null    object \n",
      " 10  Posted Speed Limit (MPH)        491 non-null    float64\n",
      " 11  Lighting                        516 non-null    object \n",
      " 12  Weather - Clear                 518 non-null    object \n",
      " 13  Weather - Snow                  518 non-null    object \n",
      " 14  Weather - Cloudy                518 non-null    object \n",
      " 15  Weather - Fog/Smoke             518 non-null    object \n",
      " 16  Weather - Rain                  518 non-null    object \n",
      " 17  Weather - Severe Wind           518 non-null    object \n",
      " 18  Crash With                      516 non-null    object \n",
      " 19  Highest Injury Severity         516 non-null    object \n",
      " 20  CP Pre-Crash Movement           494 non-null    object \n",
      " 21  CP Contact Area - Rear Left     518 non-null    object \n",
      " 22  CP Contact Area - Left          518 non-null    object \n",
      " 23  CP Contact Area - Front Left    518 non-null    object \n",
      " 24  CP Contact Area - Rear          518 non-null    object \n",
      " 25  CP Contact Area - Top           518 non-null    object \n",
      " 26  CP Contact Area - Front         518 non-null    object \n",
      " 27  CP Contact Area - Rear Right    518 non-null    object \n",
      " 28  CP Contact Area - Right         518 non-null    object \n",
      " 29  CP Contact Area - Front Right   518 non-null    object \n",
      " 30  CP Contact Area - Bottom        518 non-null    object \n",
      " 31  SV Pre-Crash Movement           516 non-null    object \n",
      " 32  SV Were All Passengers Belted?  516 non-null    object \n",
      " 33  SV Precrash Speed (MPH)         499 non-null    float64\n",
      " 34  SV Contact Area - Rear Left     518 non-null    object \n",
      " 35  SV Contact Area - Left          518 non-null    object \n",
      " 36  SV Contact Area - Front Left    518 non-null    object \n",
      " 37  SV Contact Area - Rear          518 non-null    object \n",
      " 38  SV Contact Area - Top           518 non-null    object \n",
      " 39  SV Contact Area - Front         518 non-null    object \n",
      " 40  SV Contact Area - Rear Right    518 non-null    object \n",
      " 41  SV Contact Area - Right         518 non-null    object \n",
      " 42  SV Contact Area - Front Right   518 non-null    object \n",
      " 43  SV Contact Area - Bottom        518 non-null    object \n",
      "dtypes: float64(2), object(42)\n",
      "memory usage: 178.2+ KB\n"
     ]
    }
   ],
   "source": [
    "df.info()"
   ]
  },
  {
   "cell_type": "markdown",
   "id": "70ea9caa",
   "metadata": {},
   "source": [
    "## Identify/Clean Target\n",
    "We are predicting features involved in a car crash that are likely to result in an incident with\n",
    "injury"
   ]
  },
  {
   "cell_type": "code",
   "execution_count": 13,
   "id": "11eb5463",
   "metadata": {},
   "outputs": [
    {
     "data": {
      "text/plain": [
       "No Injuries Reported    409\n",
       "Minor                    50\n",
       "Unknown                  41\n",
       "Moderate                 12\n",
       "Serious                   4\n",
       "NaN                       2\n",
       "Name: Highest Injury Severity, dtype: int64"
      ]
     },
     "execution_count": 13,
     "metadata": {},
     "output_type": "execute_result"
    }
   ],
   "source": [
    "# focus on target\n",
    "df['Highest Injury Severity'].value_counts(dropna=False)"
   ]
  },
  {
   "cell_type": "code",
   "execution_count": 14,
   "id": "206b7ee8",
   "metadata": {},
   "outputs": [
    {
     "data": {
      "text/plain": [
       "(516, 44)"
      ]
     },
     "execution_count": 14,
     "metadata": {},
     "output_type": "execute_result"
    }
   ],
   "source": [
    "# removing nulls\n",
    "df = df.dropna(subset=['Highest Injury Severity']).copy()\n",
    "df.shape"
   ]
  },
  {
   "cell_type": "code",
   "execution_count": 15,
   "id": "e3289569",
   "metadata": {},
   "outputs": [],
   "source": [
    "# dropping \"unknown\" values am only focusing on known yes or no injuries\n",
    "df = df.loc[df['Highest Injury Severity'] != 'Unknown'].copy()"
   ]
  },
  {
   "cell_type": "code",
   "execution_count": 16,
   "id": "2f920bac",
   "metadata": {},
   "outputs": [
    {
     "data": {
      "text/plain": [
       "No Injuries Reported    409\n",
       "Minor                    50\n",
       "Moderate                 12\n",
       "Serious                   4\n",
       "Name: Highest Injury Severity, dtype: int64"
      ]
     },
     "execution_count": 16,
     "metadata": {},
     "output_type": "execute_result"
    }
   ],
   "source": [
    "# confirming \"unknown\" values are dropped\n",
    "df['Highest Injury Severity'].value_counts(dropna=False)"
   ]
  },
  {
   "cell_type": "code",
   "execution_count": 17,
   "id": "8f232c01",
   "metadata": {},
   "outputs": [],
   "source": [
    "df.rename(columns = {'Highest Injury Severity': 'Incident with Injury'}, inplace = True)\n",
    "df['Incident with Injury'] = df['Incident with Injury'].map(lambda x:0 if x == 'No Injuries Reported' else 1)"
   ]
  },
  {
   "cell_type": "code",
   "execution_count": 18,
   "id": "7fe4d2cd",
   "metadata": {},
   "outputs": [
    {
     "data": {
      "text/plain": [
       "0    409\n",
       "1     66\n",
       "Name: Incident with Injury, dtype: int64"
      ]
     },
     "execution_count": 18,
     "metadata": {},
     "output_type": "execute_result"
    }
   ],
   "source": [
    "df['Incident with Injury'].value_counts(dropna=False)"
   ]
  },
  {
   "cell_type": "code",
   "execution_count": 19,
   "id": "0fc1221d",
   "metadata": {},
   "outputs": [
    {
     "data": {
      "image/png": "[encoded data removed]",
      "text/plain": [
       "<Figure size 360x432 with 1 Axes>"
      ]
     },
     "metadata": {},
     "output_type": "display_data"
    }
   ],
   "source": [
    "# plotting incidents with injury v incidents with no injury\n",
    "plt.figure(figsize=(5,6))\n",
    "sns.countplot(x=df['Incident with Injury'],\n",
    "data=df,\n",
    "palette='rocket').set_xticklabels(['No','Yes'], fontsize=14)\n",
    "plt.xlabel('Incident with Injury', weight='bold', fontsize=14)\n",
    "plt.ylabel('Incident Count', weight='bold', fontsize=14)\n",
    "plt.title('Incidents with Injury', weight='bold', size=16)\n",
    "plt.savefig('Incidents with Injury.jpg');"
   ]
  },
  {
   "cell_type": "code",
   "execution_count": 20,
   "id": "006a7256",
   "metadata": {
    "scrolled": true
   },
   "outputs": [
    {
     "data": {
      "image/png": "[encoded data removed]",
      "text/plain": [
       "<Figure size 1800x720 with 3 Axes>"
      ]
     },
     "metadata": {},
     "output_type": "display_data"
    }
   ],
   "source": [
    "# bar chart for null observation\n",
    "import missingno as msno\n",
    "msno.bar(df, sort='descending');"
   ]
  },
  {
   "cell_type": "markdown",
   "id": "1b518fa5",
   "metadata": {},
   "source": [
    "### Identify/Explore Features"
   ]
  },
  {
   "cell_type": "markdown",
   "id": "bf83e29f",
   "metadata": {},
   "source": [
    "Make"
   ]
  },
  {
   "cell_type": "code",
   "execution_count": 21,
   "id": "51211a38",
   "metadata": {
    "scrolled": true
   },
   "outputs": [
    {
     "data": {
      "text/plain": [
       "Jaguar                     193\n",
       "Cruise                      86\n",
       "Ford                        50\n",
       "Toyota                      29\n",
       "Chrysler                    24\n",
       "Peterbilt                   16\n",
       "Lexus                       14\n",
       "Hyundai                     11\n",
       "Mercedes-Benz                7\n",
       "Chevrolet                    6\n",
       "EZ10                         6\n",
       "FREIGHTLINER                 5\n",
       "Kenworth Motor Truck Co      3\n",
       "Jeep                         2\n",
       "Navya                        2\n",
       "Ligier                       2\n",
       "Local Motors                 2\n",
       "Polestar                     2\n",
       "EQS                          2\n",
       "Kenworth                     2\n",
       "Lucid                        2\n",
       "Nissan                       1\n",
       "Ligier Group                 1\n",
       "International                1\n",
       "Freightliner                 1\n",
       "Lincoln                      1\n",
       "LExus                        1\n",
       "INTERNATIONAL                1\n",
       "NAVYA                        1\n",
       "OLLI                         1\n",
       "Name: Make, dtype: int64"
      ]
     },
     "execution_count": 21,
     "metadata": {},
     "output_type": "execute_result"
    }
   ],
   "source": [
    "# checking column values and remaining nulls\n",
    "df['Make'].value_counts(dropna=False)"
   ]
  },
  {
   "cell_type": "code",
   "execution_count": 22,
   "id": "9e31c671",
   "metadata": {},
   "outputs": [
    {
     "data": {
      "text/plain": [
       "Jaguar           193\n",
       "Cruise            86\n",
       "Ford              50\n",
       "Toyota            29\n",
       "Chrysler          24\n",
       "Peterbilt         16\n",
       "Lexus             15\n",
       "Hyundai           11\n",
       "Mercedes-Benz      7\n",
       "Freightliner       6\n",
       "Chevrolet          6\n",
       "EZTEN              6\n",
       "Kenworth           5\n",
       "Navya              3\n",
       "International      2\n",
       "Local Motors       2\n",
       "Lucid              2\n",
       "EQS                2\n",
       "Polestar           2\n",
       "Jeep               2\n",
       "Ligier             2\n",
       "Lincoln            1\n",
       "OLLI               1\n",
       "Nissan             1\n",
       "Ligier Group       1\n",
       "Name: Make, dtype: int64"
      ]
     },
     "execution_count": 22,
     "metadata": {},
     "output_type": "execute_result"
    }
   ],
   "source": [
    "# defining dictionary map and mapping dictionary on column\n",
    "make_map = {\n",
    "    'Jaguar':'Jaguar',\n",
    "    'Cruise':'Cruise',\n",
    "    'Ford':'Ford',\n",
    "    'Toyota':'Toyota',\n",
    "    'Chrysler':'Chrysler',\n",
    "    'Peterbilt':'Peterbilt',\n",
    "    'Lexus':'Lexus',\n",
    "    'Hyundai':'Hyundai',\n",
    "    'Mercedes-Benz':'Mercedes-Benz',\n",
    "    'Chevrolet':'Chevrolet',\n",
    "    'EZ10':'EZTEN',\n",
    "    'FREIGHTLINER':'Freightliner',\n",
    "    'Kenworth Motor Truck Co':'Kenworth',\n",
    "    'Polestar':'Polestar',\n",
    "    'Local Motors':'Local Motors',\n",
    "    'EQS':'EQS',\n",
    "    'Jeep':'Jeep',\n",
    "    'Navya':'Navya',\n",
    "    'Kenworth':'Kenworth',\n",
    "    'Ligier':'Ligier',\n",
    "    'Lucid': 'Lucid',\n",
    "    'OLLI':'OLLI',\n",
    "    'NAVYA':'Navya',\n",
    "    'LExus':'Lexus',\n",
    "    'Ligier Group':'Ligier Group',\n",
    "    'Lincoln':'Lincoln',\n",
    "    'Freightliner':'Freightliner',\n",
    "    'Nissan':'Nissan',\n",
    "    'International': 'International',\n",
    "    'INTERNATIONAL': 'International'\n",
    "\n",
    "}\n",
    "\n",
    "df['Make']= df['Make'].map(make_map)\n",
    "df['Make'].value_counts(dropna=False)"
   ]
  },
  {
   "cell_type": "markdown",
   "id": "6cec72ef",
   "metadata": {},
   "source": [
    "Model"
   ]
  },
  {
   "cell_type": "code",
   "execution_count": 23,
   "id": "b2e7cb1e",
   "metadata": {},
   "outputs": [
    {
     "data": {
      "text/plain": [
       "I-Pace            191\n",
       "AV                 86\n",
       "Escape             34\n",
       "Highlander         24\n",
       "Pacifica           24\n",
       "Fusion             16\n",
       "579 Epiq           15\n",
       "RX450H             12\n",
       "Kona EV             9\n",
       "GEN2                6\n",
       "Bolt                6\n",
       "T680                5\n",
       "Sienna              5\n",
       "CASCADIA            3\n",
       "EZ10 Gen 3          3\n",
       "Cascadia            3\n",
       "S450                3\n",
       "EQS 450 4Matic      2\n",
       "S350D               2\n",
       "Grand Cherokee      2\n",
       "I-PACE              2\n",
       "Polestar 2          2\n",
       "450 4matic          2\n",
       "RX 450h             2\n",
       "Dream               2\n",
       "Olli 1.0            1\n",
       "Leaf SL             1\n",
       "LT625               1\n",
       "1.0                 1\n",
       "Kona/EV             1\n",
       "Olli                1\n",
       "579                 1\n",
       "Ioniq 5             1\n",
       "Arma                1\n",
       "LT 625              1\n",
       "MKZ                 1\n",
       "RX450h              1\n",
       "ARMA                1\n",
       "NaN                 1\n",
       "Name: Model, dtype: int64"
      ]
     },
     "execution_count": 23,
     "metadata": {},
     "output_type": "execute_result"
    }
   ],
   "source": [
    "# checking column values and remaining nulls\n",
    "df['Model'].value_counts(dropna=False)"
   ]
  },
  {
   "cell_type": "code",
   "execution_count": 24,
   "id": "1c14a8c7",
   "metadata": {},
   "outputs": [
    {
     "data": {
      "text/plain": [
       "(474, 44)"
      ]
     },
     "execution_count": 24,
     "metadata": {},
     "output_type": "execute_result"
    }
   ],
   "source": [
    "# removing nulls\n",
    "df = df.dropna(subset=['Model']).copy()\n",
    "df.shape"
   ]
  },
  {
   "cell_type": "code",
   "execution_count": 25,
   "id": "339ff704",
   "metadata": {},
   "outputs": [
    {
     "name": "stdout",
     "output_type": "stream",
     "text": [
      "(474, 43)\n"
     ]
    }
   ],
   "source": [
    "# dropping column list and checking shape\n",
    "df = df.drop(columns = ['Model'])\n",
    "print(df.shape)"
   ]
  },
  {
   "cell_type": "markdown",
   "id": "6be02dc4",
   "metadata": {},
   "source": [
    "Driver / Operator Type"
   ]
  },
  {
   "cell_type": "code",
   "execution_count": 26,
   "id": "13442759",
   "metadata": {},
   "outputs": [
    {
     "data": {
      "text/plain": [
       "In-Vehicle (Commercial / Test)               356\n",
       "In-Vehicle and Remote (Commercial / Test)     53\n",
       "Remote (Commercial / Test)                    39\n",
       "Other, see Narrative                          12\n",
       "None                                           9\n",
       "Consumer                                       3\n",
       "Unknown                                        2\n",
       "Name: Driver / Operator Type, dtype: int64"
      ]
     },
     "execution_count": 26,
     "metadata": {},
     "output_type": "execute_result"
    }
   ],
   "source": [
    "# checking column values and remaining nulls\n",
    "df['Driver / Operator Type'].value_counts(dropna=False)"
   ]
  },
  {
   "cell_type": "code",
   "execution_count": 27,
   "id": "1a472124",
   "metadata": {},
   "outputs": [
    {
     "data": {
      "text/plain": [
       "In-Vehicle               356\n",
       "In-Vehicle and Remote     53\n",
       "Remote                    39\n",
       "Other                     14\n",
       "None                       9\n",
       "Consumer                   3\n",
       "Name: Driver / Operator Type, dtype: int64"
      ]
     },
     "execution_count": 27,
     "metadata": {},
     "output_type": "execute_result"
    }
   ],
   "source": [
    "# defining dictionary map and mapping dictionary on column\n",
    "driver_operator_map = {\n",
    "    'In-Vehicle (Commercial / Test)': 'In-Vehicle',\n",
    "    'Consumer': 'Consumer',\n",
    "    'In-Vehicle and Remote (Commercial / Test)': 'In-Vehicle and Remote',\n",
    "    'Remote (Commercial / Test)': 'Remote',\n",
    "    'Other, see Narrative': 'Other',\n",
    "    'None': 'None',\n",
    "    'Unknown': 'Other'\n",
    "}\n",
    "\n",
    "df['Driver / Operator Type']= df['Driver / Operator Type'].map(driver_operator_map)\n",
    "df['Driver / Operator Type'].value_counts(dropna=False)"
   ]
  },
  {
   "cell_type": "code",
   "execution_count": 28,
   "id": "01b54374",
   "metadata": {},
   "outputs": [
    {
     "data": {
      "image/png": "[encoded data removed]",
      "text/plain": [
       "<Figure size 432x432 with 1 Axes>"
      ]
     },
     "metadata": {},
     "output_type": "display_data"
    }
   ],
   "source": [
    "# plotting TRAFFIC_CONTROL_DEVICE by number of incidents\n",
    "plt.figure(figsize=(6,6))\n",
    "sns.countplot(x=df['Driver / Operator Type'], \n",
    "              data=df, \n",
    "              palette='rocket')\n",
    "plt.xlabel('Operator', weight='bold', fontsize=14)\n",
    "plt.ylabel('Incident Count', weight='bold', fontsize=14)\n",
    "plt.xticks(rotation=75)\n",
    "plt.title('Operator & Number of Incidents', weight='bold', size=16);"
   ]
  },
  {
   "cell_type": "code",
   "execution_count": 29,
   "id": "56fa29b9",
   "metadata": {},
   "outputs": [
    {
     "data": {
      "image/png": "[encoded data removed]",
      "text/plain": [
       "<Figure size 432x360 with 1 Axes>"
      ]
     },
     "metadata": {},
     "output_type": "display_data"
    }
   ],
   "source": [
    "# plotting TRAFFIC_CONTROL_DEVICE by incident type occurrence\n",
    "plt.figure(figsize=(6,5))\n",
    "sns.countplot(x='Driver / Operator Type', \n",
    "              hue='Incident with Injury', \n",
    "              data=df, \n",
    "              palette='rocket')\n",
    "plt.ylabel('Total Incidents', weight='bold', size=14)\n",
    "plt.xlabel('Operator', weight='bold', size=14)\n",
    "plt.title('Operator & Incident Type', weight='bold', size=16)\n",
    "plt.legend(['No Injury','Injury'])\n",
    "plt.xticks(rotation=75);"
   ]
  },
  {
   "cell_type": "code",
   "execution_count": 30,
   "id": "6dfa5cf1",
   "metadata": {},
   "outputs": [
    {
     "data": {
      "text/plain": [
       "<Figure size 360x288 with 0 Axes>"
      ]
     },
     "metadata": {},
     "output_type": "display_data"
    },
    {
     "data": {
      "image/png": "[encoded data removed]",
      "text/plain": [
       "<Figure size 576x396 with 1 Axes>"
      ]
     },
     "metadata": {},
     "output_type": "display_data"
    }
   ],
   "source": [
    "# plotting Incident Type grouped by TRAFFIC_CONTROL_DEVICE\n",
    "plt.figure(figsize=(5,4))\n",
    "sns.set_palette('rocket')\n",
    "df_gb = df.groupby(['Incident with Injury','Driver / Operator Type']).size().unstack(level=1)\n",
    "df_gb.plot(kind='bar')\n",
    "plt.xlabel('Incident with Injury', weight='bold', fontsize=14)\n",
    "plt.ylabel('Incident Count', weight='bold', fontsize=14)\n",
    "plt.xticks(ticks=[0,1], labels = ['No','Yes'], rotation=360)\n",
    "plt.title('Incident Type by Operator', weight='bold', size=16);"
   ]
  },
  {
   "cell_type": "code",
   "execution_count": 31,
   "id": "48b80ecc",
   "metadata": {},
   "outputs": [
    {
     "data": {
      "text/plain": [
       "ADS                       446\n",
       "Unknown, see Narrative     17\n",
       "ADAS                       11\n",
       "Name: Automation System Engaged?, dtype: int64"
      ]
     },
     "execution_count": 31,
     "metadata": {},
     "output_type": "execute_result"
    }
   ],
   "source": [
    "df['Automation System Engaged?'].value_counts(dropna=False)"
   ]
  },
  {
   "cell_type": "code",
   "execution_count": 32,
   "id": "7b3f3929",
   "metadata": {},
   "outputs": [
    {
     "name": "stdout",
     "output_type": "stream",
     "text": [
      "(474, 42)\n"
     ]
    }
   ],
   "source": [
    "# dropping column list and checking shape\n",
    "df = df.drop(columns = ['Automation System Engaged?'])\n",
    "print(df.shape)"
   ]
  },
  {
   "cell_type": "markdown",
   "id": "3fecd2c2",
   "metadata": {},
   "source": [
    "Operating Entity"
   ]
  },
  {
   "cell_type": "code",
   "execution_count": 33,
   "id": "bdf7e15e",
   "metadata": {},
   "outputs": [
    {
     "data": {
      "text/plain": [
       "Waymo LLC                                                 194\n",
       "Cruise LLC                                                 84\n",
       "Argo AI                                                    50\n",
       "Waymo LLC.                                                 23\n",
       "May Mobility                                               18\n",
       "Zoox                                                       13\n",
       "Zoox Inc.                                                  11\n",
       "Pony.ai                                                    10\n",
       "Waymo, LLC.                                                 9\n",
       "TORC ROBOTICS, INC                                          6\n",
       "Colorado School of Mines                                    6\n",
       "Cruise                                                      5\n",
       "Kodiak Robotics, Inc.                                       4\n",
       "NaN                                                         3\n",
       "First Transit, Inc.                                         3\n",
       "Beep                                                        2\n",
       "MBUS                                                        2\n",
       "Mercedes-Benz                                               2\n",
       "NVIDIA Corporation                                          2\n",
       "Cruise                                                      2\n",
       "TuSimple                                                    2\n",
       "Polestar                                                    2\n",
       "Weride Corp                                                 2\n",
       "Mercedes-Benz Research and Development NA                   2\n",
       "Apple Inc.                                                  2\n",
       "CRUISE                                                      1\n",
       "Waymo, LLC                                                  1\n",
       "Kodiak Robotics, Inc                                        1\n",
       "Beep, Inc.                                                  1\n",
       "BEEP                                                        1\n",
       "Waymo LLC.                                                  1\n",
       "Motional                                                    1\n",
       "5th Generation ADS                                          1\n",
       "NVIDIA                                                      1\n",
       "Aurora Operations, Inc.                                     1\n",
       "Waymo LLc                                                   1\n",
       "Waymo LLC                                                   1\n",
       "Marcel Vincent-Casiano  (Lucid Independent Contractor)      1\n",
       "Formel D  (Independent Contractor Entity)                   1\n",
       "Waymo, LLC                                                  1\n",
       "Name: Operating Entity, dtype: int64"
      ]
     },
     "execution_count": 33,
     "metadata": {},
     "output_type": "execute_result"
    }
   ],
   "source": [
    "df['Operating Entity'].value_counts(dropna=False)"
   ]
  },
  {
   "cell_type": "code",
   "execution_count": 34,
   "id": "6cfb1aed",
   "metadata": {
    "scrolled": false
   },
   "outputs": [
    {
     "data": {
      "text/plain": [
       "Waymo                       229\n",
       "Cruise                       92\n",
       "Argo AI                      50\n",
       "Zoox                         24\n",
       "May Mobility                 18\n",
       "Pony.ai                      10\n",
       "TORC ROBOTICS                 6\n",
       "Colorado School of Mines      6\n",
       "Kodiak Robotics               5\n",
       "NaN                           5\n",
       "Mercedes-Benz                 4\n",
       "Beep                          4\n",
       "NVIDIA                        3\n",
       "First Transit                 3\n",
       "Weride                        2\n",
       "Apple                         2\n",
       "TuSimple                      2\n",
       "Independent Contractor        2\n",
       "Polestar                      2\n",
       "MBUS                          2\n",
       "Motional                      1\n",
       "Aurora Operations             1\n",
       "5th Generation ADS            1\n",
       "Name: Operating Entity, dtype: int64"
      ]
     },
     "execution_count": 34,
     "metadata": {},
     "output_type": "execute_result"
    }
   ],
   "source": [
    "# defining dictionary map and mapping dictionary on column\n",
    "operator_entity_map = {\n",
    "    'Waymo LLC': 'Waymo',                                               \n",
    "    'Cruise LLC': 'Cruise',                                                 \n",
    "    'Argo AI': 'Argo AI',                                                     \n",
    "    'Waymo LLC.': 'Waymo',                                                 \n",
    "    'May Mobility': 'May Mobility',                                               \n",
    "    'Zoox': 'Zoox',                                                       \n",
    "    'Zoox Inc.': 'Zoox',                                                  \n",
    "    'Pony.ai': 'Pony.ai',                                                    \n",
    "    'Waymo, LLC.': 'Waymo',                                                 \n",
    "    'Colorado School of Mines': 'Colorado School of Mines',                                    \n",
    "    'TORC ROBOTICS, INC': 'TORC ROBOTICS',                                          \n",
    "    'Cruise': 'Cruise',                                                       \n",
    "    'Kodiak Robotics, Inc.': 'Kodiak Robotics',                                      \n",
    "    'First Transit, Inc.': 'First Transit',                                          \n",
    "    'Beep': 'Beep',                                                                                                                \n",
    "    'NVIDIA Corporation': 'NVIDIA',                                          \n",
    "    'MBUS': 'MBUS',                                                        \n",
    "    'Cruise ': 'Cruise',                                                      \n",
    "    'Weride Corp': 'Weride',                                                \n",
    "    'TuSimple': 'TuSimple',                                                     \n",
    "    'Polestar': 'Polestar',                                                    \n",
    "    'Apple Inc.': 'Apple',                                                 \n",
    "    'Mercedes-Benz': 'Mercedes-Benz',                                              \n",
    "    'Mercedes-Benz Research and Development NA': 'Mercedes-Benz',                   \n",
    "    'Aurora Operations, Inc.': 'Aurora Operations',                                      \n",
    "    'Waymo, LLC': 'Waymo',                                                  \n",
    "    'Waymo, LLC ': 'Waymo',                                                  \n",
    "    'NVIDIA': 'NVIDIA',                                                      \n",
    "    'Motional': 'Motional',                                                    \n",
    "    '5th Generation ADS': '5th Generation ADS',                                          \n",
    "    'Kodiak Robotics, Inc': 'Kodiak Robotics',                                        \n",
    "    'BEEP': 'Beep',                                                        \n",
    "    'Waymo LLC': 'Waymo',                                                   \n",
    "    'Beep, Inc.': 'Beep',                                                  \n",
    "    'Formel D  (Independent Contractor Entity)': 'Independent Contractor',                    \n",
    "    'Marcel Vincent-Casiano  (Lucid Independent Contractor)': 'Independent Contractor',      \n",
    "    'CRUISE': 'Cruise',    \n",
    "    'Waymo LLc': 'Waymo',                                     \n",
    "    'Waymo LLC.': 'Waymo'\n",
    "}\n",
    "\n",
    "df['Operating Entity']= df['Operating Entity'].map(operator_entity_map)\n",
    "df['Operating Entity'].value_counts(dropna=False)"
   ]
  },
  {
   "cell_type": "code",
   "execution_count": 35,
   "id": "8790570a",
   "metadata": {},
   "outputs": [
    {
     "data": {
      "text/plain": [
       "(469, 42)"
      ]
     },
     "execution_count": 35,
     "metadata": {},
     "output_type": "execute_result"
    }
   ],
   "source": [
    "# removing nulls\n",
    "df = df.dropna(subset=['Operating Entity']).copy()\n",
    "df.shape"
   ]
  },
  {
   "cell_type": "code",
   "execution_count": 36,
   "id": "8b270394",
   "metadata": {
    "scrolled": true
   },
   "outputs": [
    {
     "data": {
      "image/png": "[encoded data removed]",
      "text/plain": [
       "<Figure size 1080x288 with 1 Axes>"
      ]
     },
     "metadata": {},
     "output_type": "display_data"
    }
   ],
   "source": [
    "# plotting incidents with injury v incidents with no injury\n",
    "incident_counts = df['Operating Entity'].value_counts()\n",
    "plt.figure(figsize=(15,4))\n",
    "sns.countplot(x=df['Operating Entity'],\n",
    "              data=df,\n",
    "              palette='rocket',\n",
    "              order=incident_counts.index)\n",
    "plt.xticks(rotation=75,fontsize=14)\n",
    "plt.xlabel('Operating Entity', weight='bold', fontsize=14)\n",
    "plt.ylabel('Incident Count', weight='bold', fontsize=14)\n",
    "plt.title('Operating Entity', weight='bold', size=16)\n",
    "plt.savefig('Incidents with Injury.jpg');"
   ]
  },
  {
   "cell_type": "markdown",
   "id": "e0d0aa17",
   "metadata": {},
   "source": [
    "Incident Date"
   ]
  },
  {
   "cell_type": "code",
   "execution_count": 37,
   "id": "c50e3641",
   "metadata": {
    "scrolled": false
   },
   "outputs": [
    {
     "data": {
      "text/plain": [
       "AUG-2022    45\n",
       "MAR-2022    35\n",
       "APR-2022    34\n",
       "JUL-2022    32\n",
       "OCT-2021    32\n",
       "MAY-2022    28\n",
       "JUN-2022    28\n",
       "NOV-2021    26\n",
       "JAN-2022    26\n",
       "SEP-2022    25\n",
       "SEP-2021    24\n",
       "AUG-2021    23\n",
       "JUL-2021    23\n",
       "DEC-2021    19\n",
       "FEB-2022    19\n",
       "DEC-2022    19\n",
       "NOV-2022    16\n",
       "OCT-2022    15\n",
       "Name: Incident Date, dtype: int64"
      ]
     },
     "execution_count": 37,
     "metadata": {},
     "output_type": "execute_result"
    }
   ],
   "source": [
    "df['Incident Date'].value_counts(dropna=False)"
   ]
  },
  {
   "cell_type": "code",
   "execution_count": 38,
   "id": "6a8b81be",
   "metadata": {
    "scrolled": true
   },
   "outputs": [
    {
     "data": {
      "text/plain": [
       "AUG    68\n",
       "JUL    55\n",
       "SEP    49\n",
       "OCT    47\n",
       "NOV    42\n",
       "DEC    38\n",
       "MAR    35\n",
       "APR    34\n",
       "MAY    28\n",
       "JUN    28\n",
       "JAN    26\n",
       "FEB    19\n",
       "Name: Incident Date, dtype: int64"
      ]
     },
     "execution_count": 38,
     "metadata": {},
     "output_type": "execute_result"
    }
   ],
   "source": [
    "# defining dictionary map and mapping\n",
    "date_map = {\n",
    "    'NOV-2021': 'NOV',\n",
    "    'NOV-2022': 'NOV',\n",
    "    'FEB-2022': 'FEB',\n",
    "    'APR-2022': 'APR',\n",
    "    'MAR-2022': 'MAR',\n",
    "    'OCT-2021': 'OCT',\n",
    "    'OCT-2022': 'OCT',\n",
    "    'AUG-2021': 'AUG',\n",
    "    'JAN-2022': 'JAN',\n",
    "    'MAY-2022': 'MAY',\n",
    "    'DEC-2021': 'DEC',\n",
    "    'SEP-2021': 'SEP',\n",
    "    'SEP-2022': 'SEP',\n",
    "    'JUL-2021': 'JUL',\n",
    "    'JUN-2022': 'JUN',\n",
    "    'Unknown': 'Unknown',\n",
    "    'JUL-2022': 'JUL',\n",
    "    'JUN-2021': 'JUN',\n",
    "    'FEB-2020': 'FEB',\n",
    "    'DEC-2020': 'DEC',\n",
    "    'DEC-2022': 'DEC',\n",
    "    'MAY-2020': 'MAY',\n",
    "    'AUG-2019': 'AUG',\n",
    "    'AUG-2022': 'AUG',\n",
    "    'AUG-2021': 'AUG',\n",
    "    'JUN-2020': 'JUN',\n",
    "    'NOV-2020': 'NOV',\n",
    "    'OCT-2019': 'OCT',\n",
    "    'MAY-2021': 'MAY'\n",
    "}\n",
    "\n",
    "df['Incident Date']= df['Incident Date'].map(date_map)\n",
    "df['Incident Date'].value_counts(dropna=False)"
   ]
  },
  {
   "cell_type": "code",
   "execution_count": 39,
   "id": "c0f75dc9",
   "metadata": {},
   "outputs": [
    {
     "data": {
      "image/png": "[encoded data removed]",
      "text/plain": [
       "<Figure size 1080x288 with 1 Axes>"
      ]
     },
     "metadata": {},
     "output_type": "display_data"
    }
   ],
   "source": [
    "# plotting incidents with injury v incidents with no injury\n",
    "date_counts = df['Incident Date'].value_counts()\n",
    "plt.figure(figsize=(15,4))\n",
    "sns.countplot(x=df['Incident Date'],\n",
    "              data=df,\n",
    "              palette='rocket',\n",
    "              order=date_counts.index)\n",
    "plt.xticks(rotation=75,fontsize=14)\n",
    "plt.xlabel('Incident Month', weight='bold', fontsize=14)\n",
    "plt.ylabel('Incident Count', weight='bold', fontsize=14)\n",
    "plt.title('Incident Month', weight='bold', size=16)\n",
    "plt.savefig('Incident Month.jpg');"
   ]
  },
  {
   "cell_type": "markdown",
   "id": "45f5f068",
   "metadata": {},
   "source": [
    "Incident Time (24:00)"
   ]
  },
  {
   "cell_type": "code",
   "execution_count": 40,
   "id": "d384a4d5",
   "metadata": {
    "scrolled": false
   },
   "outputs": [
    {
     "data": {
      "text/plain": [
       "16:30    7\n",
       "16:47    7\n",
       "17:20    7\n",
       "10:30    7\n",
       "NaN      6\n",
       "        ..\n",
       "06:37    1\n",
       "09:50    1\n",
       "07:35    1\n",
       "15:27    1\n",
       "13:48    1\n",
       "Name: Incident Time (24:00), Length: 184, dtype: int64"
      ]
     },
     "execution_count": 40,
     "metadata": {},
     "output_type": "execute_result"
    }
   ],
   "source": [
    "df['Incident Time (24:00)'].value_counts(dropna=False)"
   ]
  },
  {
   "cell_type": "code",
   "execution_count": 41,
   "id": "90e64491",
   "metadata": {},
   "outputs": [
    {
     "data": {
      "text/plain": [
       "(463, 42)"
      ]
     },
     "execution_count": 41,
     "metadata": {},
     "output_type": "execute_result"
    }
   ],
   "source": [
    "# removing nulls\n",
    "df = df.dropna(subset=['Incident Time (24:00)']).copy()\n",
    "df.shape"
   ]
  },
  {
   "cell_type": "code",
   "execution_count": 42,
   "id": "49716394",
   "metadata": {},
   "outputs": [
    {
     "data": {
      "text/plain": [
       "183"
      ]
     },
     "execution_count": 42,
     "metadata": {},
     "output_type": "execute_result"
    }
   ],
   "source": [
    "len(df['Incident Time (24:00)'].unique())"
   ]
  },
  {
   "cell_type": "code",
   "execution_count": null,
   "id": "03f6efab",
   "metadata": {},
   "outputs": [],
   "source": []
  },
  {
   "cell_type": "markdown",
   "id": "13826f61",
   "metadata": {},
   "source": [
    "Roadway Type"
   ]
  },
  {
   "cell_type": "code",
   "execution_count": 43,
   "id": "f2eec00b",
   "metadata": {
    "scrolled": true
   },
   "outputs": [
    {
     "data": {
      "text/plain": [
       "Intersection         196\n",
       "Street               195\n",
       "Highway / Freeway     39\n",
       "Parking Lot           28\n",
       "Traffic Circle         5\n",
       "Name: Roadway Type, dtype: int64"
      ]
     },
     "execution_count": 43,
     "metadata": {},
     "output_type": "execute_result"
    }
   ],
   "source": [
    "df['Roadway Type'].value_counts(dropna=False)"
   ]
  },
  {
   "cell_type": "code",
   "execution_count": 44,
   "id": "b11c79b0",
   "metadata": {},
   "outputs": [],
   "source": [
    "# dropping \"unknown\" values am narrowing focus on known data\n",
    "df = df.loc[df['Roadway Type'] != 'Unknown'].copy()"
   ]
  },
  {
   "cell_type": "code",
   "execution_count": 45,
   "id": "a4cf4d97",
   "metadata": {},
   "outputs": [
    {
     "data": {
      "image/png": "[encoded data removed]",
      "text/plain": [
       "<Figure size 432x360 with 1 Axes>"
      ]
     },
     "metadata": {},
     "output_type": "display_data"
    }
   ],
   "source": [
    "# plotting incidents with injury v incidents with no injury\n",
    "# date_counts = df['Incident Date'].value_counts()\n",
    "plt.figure(figsize=(6,5))\n",
    "sns.countplot(x=df['Roadway Type'],\n",
    "              data=df,\n",
    "              palette='rocket',)\n",
    "              \n",
    "plt.xticks(rotation=55,fontsize=14)\n",
    "plt.xlabel('Roadway Type', weight='bold', fontsize=14)\n",
    "plt.ylabel('Incident Count', weight='bold', fontsize=14)\n",
    "plt.title('Roadway Type', weight='bold', size=16)\n",
    "plt.savefig('Roadway Type.jpg');"
   ]
  },
  {
   "cell_type": "markdown",
   "id": "316fcb4d",
   "metadata": {},
   "source": [
    "Roadway Surface"
   ]
  },
  {
   "cell_type": "code",
   "execution_count": 46,
   "id": "be78f55c",
   "metadata": {
    "scrolled": true
   },
   "outputs": [
    {
     "data": {
      "text/plain": [
       "Dry                   437\n",
       "Wet                    19\n",
       "Unknown                 6\n",
       "Snow / Slush / Ice      1\n",
       "Name: Roadway Surface, dtype: int64"
      ]
     },
     "execution_count": 46,
     "metadata": {},
     "output_type": "execute_result"
    }
   ],
   "source": [
    "df['Roadway Surface'].value_counts(dropna=False)"
   ]
  },
  {
   "cell_type": "code",
   "execution_count": 47,
   "id": "e3d871e6",
   "metadata": {},
   "outputs": [],
   "source": [
    "# dropping \"unknown\" values am narrowing focus on known data\n",
    "df = df.loc[df['Roadway Surface'] != 'Unknown'].copy()"
   ]
  },
  {
   "cell_type": "code",
   "execution_count": 48,
   "id": "0e50e8bb",
   "metadata": {
    "scrolled": true
   },
   "outputs": [
    {
     "data": {
      "image/png": "[encoded data removed]",
      "text/plain": [
       "<Figure size 432x360 with 1 Axes>"
      ]
     },
     "metadata": {},
     "output_type": "display_data"
    }
   ],
   "source": [
    "# plotting incidents with injury v incidents with no injury\n",
    "# date_counts = df['Incident Date'].value_counts()\n",
    "plt.figure(figsize=(6,5))\n",
    "sns.countplot(x=df['Roadway Surface'],\n",
    "              data=df,\n",
    "              palette='rocket',)\n",
    "              \n",
    "plt.xticks(rotation=55,fontsize=14)\n",
    "plt.xlabel('Roadway Surface', weight='bold', fontsize=14)\n",
    "plt.ylabel('Incident Count', weight='bold', fontsize=14)\n",
    "plt.title('Roadway Surface', weight='bold', size=16)\n",
    "plt.savefig('Roadway Surface.jpg');"
   ]
  },
  {
   "cell_type": "code",
   "execution_count": 49,
   "id": "25487b63",
   "metadata": {},
   "outputs": [
    {
     "data": {
      "text/plain": [
       "<Figure size 360x288 with 0 Axes>"
      ]
     },
     "metadata": {},
     "output_type": "display_data"
    },
    {
     "data": {
      "image/png": "[encoded data removed]",
      "text/plain": [
       "<Figure size 576x396 with 1 Axes>"
      ]
     },
     "metadata": {},
     "output_type": "display_data"
    }
   ],
   "source": [
    "# plotting Incident Type grouped by TRAFFIC_CONTROL_DEVICE\n",
    "plt.figure(figsize=(5,4))\n",
    "sns.set_palette('rocket')\n",
    "df_gb = df.groupby(['Incident with Injury','Roadway Surface']).size().unstack(level=1)\n",
    "df_gb.plot(kind='bar')\n",
    "plt.xlabel('Incident with Injury', weight='bold', fontsize=14)\n",
    "plt.ylabel('Incident Count', weight='bold', fontsize=14)\n",
    "plt.xticks(ticks=[0,1], labels = ['No','Yes'], rotation=360)\n",
    "plt.title('Incident Type by Roadway Surface', weight='bold', size=16);"
   ]
  },
  {
   "cell_type": "markdown",
   "id": "62c7e7cf",
   "metadata": {},
   "source": [
    "Roadway Description"
   ]
  },
  {
   "cell_type": "code",
   "execution_count": 2093,
   "id": "575c2e64",
   "metadata": {
    "scrolled": true
   },
   "outputs": [
    {
     "data": {
      "text/plain": [
       "No Unusual Conditions    441\n",
       "Other, see Narrative       9\n",
       "Work Zone                  6\n",
       "Traffic Incident           1\n",
       "Name: Roadway Description, dtype: int64"
      ]
     },
     "execution_count": 2093,
     "metadata": {},
     "output_type": "execute_result"
    }
   ],
   "source": [
    "df['Roadway Description'].value_counts(dropna=False)"
   ]
  },
  {
   "cell_type": "code",
   "execution_count": 2094,
   "id": "5cdf72ee",
   "metadata": {},
   "outputs": [
    {
     "name": "stdout",
     "output_type": "stream",
     "text": [
      "(457, 41)\n"
     ]
    }
   ],
   "source": [
    "# dropping column and checking shape\n",
    "df = df.drop(columns = ['Roadway Description'])\n",
    "print(df.shape)"
   ]
  },
  {
   "cell_type": "markdown",
   "id": "ff76fdc4",
   "metadata": {},
   "source": [
    "Posted Speed Limit (MPH)"
   ]
  },
  {
   "cell_type": "code",
   "execution_count": 2095,
   "id": "b1d2dd27",
   "metadata": {
    "scrolled": true
   },
   "outputs": [
    {
     "data": {
      "text/plain": [
       "25.0    275\n",
       "30.0     74\n",
       "35.0     20\n",
       "65.0     20\n",
       "15.0     14\n",
       "NaN      13\n",
       "45.0     12\n",
       "75.0     12\n",
       "40.0      4\n",
       "5.0       4\n",
       "9.0       3\n",
       "50.0      2\n",
       "0.0       2\n",
       "10.0      1\n",
       "1.0       1\n",
       "Name: Posted Speed Limit (MPH), dtype: int64"
      ]
     },
     "execution_count": 2095,
     "metadata": {},
     "output_type": "execute_result"
    }
   ],
   "source": [
    "df['Posted Speed Limit (MPH)'].value_counts(dropna=False)"
   ]
  },
  {
   "cell_type": "code",
   "execution_count": 2096,
   "id": "7e70c2db",
   "metadata": {},
   "outputs": [],
   "source": [
    "# dropping \"unknown\" values am narrowing focus on known data\n",
    "df = df.loc[df['Posted Speed Limit (MPH)'] != 'Unknown'].copy()"
   ]
  },
  {
   "cell_type": "code",
   "execution_count": 2097,
   "id": "7ffb63f7",
   "metadata": {},
   "outputs": [],
   "source": [
    "df['Posted Speed Limit (MPH)'].fillna('25', inplace=True)"
   ]
  },
  {
   "cell_type": "markdown",
   "id": "677284e3",
   "metadata": {},
   "source": [
    "Lighting"
   ]
  },
  {
   "cell_type": "code",
   "execution_count": 2098,
   "id": "fb1f047e",
   "metadata": {
    "scrolled": true
   },
   "outputs": [
    {
     "data": {
      "text/plain": [
       "Daylight              298\n",
       "Dark - Lighted        139\n",
       "Dawn / Dusk            16\n",
       "Dark - Not Lighted      4\n",
       "Name: Lighting, dtype: int64"
      ]
     },
     "execution_count": 2098,
     "metadata": {},
     "output_type": "execute_result"
    }
   ],
   "source": [
    "df['Lighting'].value_counts(dropna=False)"
   ]
  },
  {
   "cell_type": "markdown",
   "id": "6aaea3ff",
   "metadata": {},
   "source": [
    "Weather - Clear"
   ]
  },
  {
   "cell_type": "code",
   "execution_count": 2099,
   "id": "a4e31d45",
   "metadata": {
    "scrolled": false
   },
   "outputs": [
    {
     "data": {
      "text/plain": [
       "Y    390\n",
       "      67\n",
       "Name: Weather - Clear, dtype: int64"
      ]
     },
     "execution_count": 2099,
     "metadata": {},
     "output_type": "execute_result"
    }
   ],
   "source": [
    "df['Weather - Clear'].value_counts(dropna=False)"
   ]
  },
  {
   "cell_type": "code",
   "execution_count": null,
   "id": "19b49e0e",
   "metadata": {},
   "outputs": [],
   "source": []
  },
  {
   "cell_type": "code",
   "execution_count": 2100,
   "id": "4e5b2d7f",
   "metadata": {},
   "outputs": [],
   "source": [
    "df['Weather - Clear'] = df['Weather - Clear'].map(lambda x:1 if x == 'Y' else 0)"
   ]
  },
  {
   "cell_type": "code",
   "execution_count": 2101,
   "id": "392514ae",
   "metadata": {},
   "outputs": [
    {
     "data": {
      "text/plain": [
       "1    390\n",
       "0     67\n",
       "Name: Weather - Clear, dtype: int64"
      ]
     },
     "execution_count": 2101,
     "metadata": {},
     "output_type": "execute_result"
    }
   ],
   "source": [
    "df['Weather - Clear'].value_counts(dropna=False)"
   ]
  },
  {
   "cell_type": "markdown",
   "id": "da334ec9",
   "metadata": {},
   "source": [
    "Weather - Snow"
   ]
  },
  {
   "cell_type": "code",
   "execution_count": 2102,
   "id": "e12a3ec7",
   "metadata": {
    "scrolled": true
   },
   "outputs": [
    {
     "data": {
      "text/plain": [
       "     457\n",
       "Name: Weather - Snow, dtype: int64"
      ]
     },
     "execution_count": 2102,
     "metadata": {},
     "output_type": "execute_result"
    }
   ],
   "source": [
    "df['Weather - Snow'].value_counts(dropna=False)"
   ]
  },
  {
   "cell_type": "code",
   "execution_count": 2103,
   "id": "cffb6ef1",
   "metadata": {},
   "outputs": [
    {
     "name": "stdout",
     "output_type": "stream",
     "text": [
      "(457, 40)\n"
     ]
    }
   ],
   "source": [
    "# dropping column and checking shape\n",
    "df = df.drop(columns = ['Weather - Snow'])\n",
    "print(df.shape)"
   ]
  },
  {
   "cell_type": "markdown",
   "id": "ad0db891",
   "metadata": {},
   "source": [
    "Weather - Cloudy"
   ]
  },
  {
   "cell_type": "code",
   "execution_count": 2104,
   "id": "57b13d49",
   "metadata": {
    "scrolled": true
   },
   "outputs": [
    {
     "data": {
      "text/plain": [
       "     415\n",
       "Y     42\n",
       "Name: Weather - Cloudy, dtype: int64"
      ]
     },
     "execution_count": 2104,
     "metadata": {},
     "output_type": "execute_result"
    }
   ],
   "source": [
    "df['Weather - Cloudy'].value_counts(dropna=False)"
   ]
  },
  {
   "cell_type": "code",
   "execution_count": 2105,
   "id": "5d9ab50c",
   "metadata": {},
   "outputs": [],
   "source": [
    "df['Weather - Cloudy'] = df['Weather - Cloudy'].map(lambda x:1 if x == 'Y' else 0)"
   ]
  },
  {
   "cell_type": "code",
   "execution_count": 2106,
   "id": "bfb230cf",
   "metadata": {},
   "outputs": [
    {
     "data": {
      "text/plain": [
       "0    415\n",
       "1     42\n",
       "Name: Weather - Cloudy, dtype: int64"
      ]
     },
     "execution_count": 2106,
     "metadata": {},
     "output_type": "execute_result"
    }
   ],
   "source": [
    "df['Weather - Cloudy'].value_counts(dropna=False)"
   ]
  },
  {
   "cell_type": "markdown",
   "id": "88209ad6",
   "metadata": {},
   "source": [
    "Weather - Fog/Smoke"
   ]
  },
  {
   "cell_type": "code",
   "execution_count": 2107,
   "id": "84c8d532",
   "metadata": {
    "scrolled": true
   },
   "outputs": [
    {
     "data": {
      "text/plain": [
       "     457\n",
       "Name: Weather - Fog/Smoke, dtype: int64"
      ]
     },
     "execution_count": 2107,
     "metadata": {},
     "output_type": "execute_result"
    }
   ],
   "source": [
    "df['Weather - Fog/Smoke'].value_counts(dropna=False)"
   ]
  },
  {
   "cell_type": "code",
   "execution_count": 2108,
   "id": "66fae9fd",
   "metadata": {},
   "outputs": [],
   "source": [
    "# all no , dropping column\n",
    "df = df.drop(columns = ['Weather - Fog/Smoke'])"
   ]
  },
  {
   "cell_type": "markdown",
   "id": "97809856",
   "metadata": {},
   "source": [
    "Weather - Rain"
   ]
  },
  {
   "cell_type": "code",
   "execution_count": 2109,
   "id": "9c9607ab",
   "metadata": {
    "scrolled": true
   },
   "outputs": [
    {
     "data": {
      "text/plain": [
       "     443\n",
       "Y     14\n",
       "Name: Weather - Rain, dtype: int64"
      ]
     },
     "execution_count": 2109,
     "metadata": {},
     "output_type": "execute_result"
    }
   ],
   "source": [
    "df['Weather - Rain'].value_counts(dropna=False)"
   ]
  },
  {
   "cell_type": "code",
   "execution_count": 2110,
   "id": "1e50a4a2",
   "metadata": {},
   "outputs": [],
   "source": [
    "df['Weather - Rain'] = df['Weather - Rain'].map(lambda x:1 if x == 'Y' else 0)"
   ]
  },
  {
   "cell_type": "code",
   "execution_count": 2111,
   "id": "a50b3f9b",
   "metadata": {},
   "outputs": [
    {
     "data": {
      "text/plain": [
       "0    443\n",
       "1     14\n",
       "Name: Weather - Rain, dtype: int64"
      ]
     },
     "execution_count": 2111,
     "metadata": {},
     "output_type": "execute_result"
    }
   ],
   "source": [
    "df['Weather - Rain'].value_counts(dropna=False)"
   ]
  },
  {
   "cell_type": "markdown",
   "id": "009a90b1",
   "metadata": {},
   "source": [
    "Weather - Severe Wind"
   ]
  },
  {
   "cell_type": "code",
   "execution_count": 2112,
   "id": "e9c4dfe9",
   "metadata": {
    "scrolled": true
   },
   "outputs": [
    {
     "data": {
      "text/plain": [
       "     457\n",
       "Name: Weather - Severe Wind, dtype: int64"
      ]
     },
     "execution_count": 2112,
     "metadata": {},
     "output_type": "execute_result"
    }
   ],
   "source": [
    "df['Weather - Severe Wind'].value_counts(dropna=False)"
   ]
  },
  {
   "cell_type": "code",
   "execution_count": 2113,
   "id": "2789a4a2",
   "metadata": {},
   "outputs": [],
   "source": [
    "# all no , dropping column\n",
    "df = df.drop(columns = ['Weather - Severe Wind'])"
   ]
  },
  {
   "cell_type": "code",
   "execution_count": 2114,
   "id": "e671994c",
   "metadata": {},
   "outputs": [],
   "source": [
    "#### Redefining Weather"
   ]
  },
  {
   "cell_type": "code",
   "execution_count": 2115,
   "id": "d411c5be",
   "metadata": {},
   "outputs": [],
   "source": [
    "df['Weather - Rain/Cloudy'] = df['Weather - Rain'] + df['Weather - Cloudy'] "
   ]
  },
  {
   "cell_type": "code",
   "execution_count": 2116,
   "id": "560ad9b2",
   "metadata": {},
   "outputs": [
    {
     "data": {
      "text/plain": [
       "0    403\n",
       "1     52\n",
       "2      2\n",
       "Name: Weather - Rain/Cloudy, dtype: int64"
      ]
     },
     "execution_count": 2116,
     "metadata": {},
     "output_type": "execute_result"
    }
   ],
   "source": [
    "df['Weather - Rain/Cloudy'].value_counts()"
   ]
  },
  {
   "cell_type": "code",
   "execution_count": 2117,
   "id": "265a6d0d",
   "metadata": {},
   "outputs": [],
   "source": [
    "df['Weather - Rain/Cloudy'] = df['Weather - Rain/Cloudy'].map(lambda x:0 if x == 0 else 1)"
   ]
  },
  {
   "cell_type": "code",
   "execution_count": 2118,
   "id": "f48f2480",
   "metadata": {},
   "outputs": [
    {
     "data": {
      "text/plain": [
       "0    403\n",
       "1     54\n",
       "Name: Weather - Rain/Cloudy, dtype: int64"
      ]
     },
     "execution_count": 2118,
     "metadata": {},
     "output_type": "execute_result"
    }
   ],
   "source": [
    "df['Weather - Rain/Cloudy'].value_counts()"
   ]
  },
  {
   "cell_type": "markdown",
   "id": "0577d1be",
   "metadata": {},
   "source": [
    "Crash With"
   ]
  },
  {
   "cell_type": "code",
   "execution_count": 2119,
   "id": "db639ccd",
   "metadata": {
    "scrolled": true
   },
   "outputs": [
    {
     "data": {
      "text/plain": [
       "Passenger Car               202\n",
       "SUV                          73\n",
       "Pickup Truck                 45\n",
       "Non-Motorist: Cyclist        33\n",
       "Other, see Narrative         31\n",
       "Heavy Truck                  17\n",
       "Van                          17\n",
       "Motorcycle                   15\n",
       "Other Fixed Object           15\n",
       "Non-Motorist: Other           4\n",
       "Animal                        3\n",
       "Non-Motorist: Pedestrian      2\n",
       "Name: Crash With, dtype: int64"
      ]
     },
     "execution_count": 2119,
     "metadata": {},
     "output_type": "execute_result"
    }
   ],
   "source": [
    "df['Crash With'].value_counts(dropna=False)"
   ]
  },
  {
   "cell_type": "code",
   "execution_count": 2120,
   "id": "220ecb55",
   "metadata": {},
   "outputs": [
    {
     "data": {
      "text/plain": [
       "Vehicle               354\n",
       "Cyclist/Motorcycle     48\n",
       "Unknown                31\n",
       "Fixed Object           19\n",
       "Animal                  3\n",
       "Pedestrian              2\n",
       "Name: Crash With, dtype: int64"
      ]
     },
     "execution_count": 2120,
     "metadata": {},
     "output_type": "execute_result"
    }
   ],
   "source": [
    "# defining dictionary map and mapping\n",
    "crash_w_map = {\n",
    "    'Passenger Car': 'Vehicle',\n",
    "    'Unknown': 'Unknown',\n",
    "    'SUV': 'Vehicle',\n",
    "    'Pickup Truck': 'Vehicle',\n",
    "    'Other Fixed Object': 'Fixed Object',\n",
    "    'Other, see Narrative': 'Unknown',\n",
    "    'Non-Motorist: Cyclist': 'Cyclist/Motorcycle',\n",
    "    'Heavy Truck': 'Vehicle',\n",
    "    'Animal': 'Animal',\n",
    "    'Pole / Tree': 'Fixed Object',\n",
    "    'Motorcycle': 'Cyclist/Motorcycle',\n",
    "    'Van': 'Vehicle',\n",
    "    'Non-Motorist: Pedestrian': 'Pedestrian',\n",
    "    'Non-Motorist: Other': 'Fixed Object',\n",
    "    'Bus': 'Bus',\n",
    "    'First Responder Vehicle':'Vehicle',\n",
    "}\n",
    "\n",
    "df['Crash With']= df['Crash With'].map(crash_w_map)\n",
    "df['Crash With'].value_counts(dropna=False)"
   ]
  },
  {
   "cell_type": "markdown",
   "id": "23fd431c",
   "metadata": {},
   "source": [
    "CP Pre-Crash Movement"
   ]
  },
  {
   "cell_type": "code",
   "execution_count": 2121,
   "id": "17450ee9",
   "metadata": {
    "scrolled": true
   },
   "outputs": [
    {
     "data": {
      "text/plain": [
       "Proceeding Straight            195\n",
       "Other, see Narrative            53\n",
       "Changing Lanes                  35\n",
       "Backing                         35\n",
       "Making Right Turn               34\n",
       "Making Left Turn                25\n",
       "Parked                          16\n",
       "NaN                             15\n",
       "Passing                         11\n",
       "Stopped                          9\n",
       "Crossing into Opposing Lane      8\n",
       "Traveling Wrong Way              8\n",
       "Lane / Road Departure            4\n",
       "Entering Traffic                 3\n",
       "NM Moving on Sidewalk            3\n",
       "Unknown                          2\n",
       "Merging                          1\n",
       "Name: CP Pre-Crash Movement, dtype: int64"
      ]
     },
     "execution_count": 2121,
     "metadata": {},
     "output_type": "execute_result"
    }
   ],
   "source": [
    "# inspecting 'CP Pre-Crash Movement'\n",
    "df['CP Pre-Crash Movement'].value_counts(dropna=False)"
   ]
  },
  {
   "cell_type": "code",
   "execution_count": 2122,
   "id": "a3bf2e9a",
   "metadata": {
    "scrolled": true
   },
   "outputs": [
    {
     "data": {
      "text/plain": [
       "Proceeding Straight           195\n",
       "Left Turn/Right Turn           59\n",
       "Unknown                        55\n",
       "Changing Lanes                 35\n",
       "Backing                        35\n",
       "Stopped/Parked                 25\n",
       "Road Departure / Wrong Way     20\n",
       "NaN                            18\n",
       "Passing                        11\n",
       "Entering Traffic                3\n",
       "Merging                         1\n",
       "Name: CP Pre-Crash Movement, dtype: int64"
      ]
     },
     "execution_count": 2122,
     "metadata": {},
     "output_type": "execute_result"
    }
   ],
   "source": [
    "veh_pre_crash_map = {\n",
    "    'Proceeding Straight': 'Proceeding Straight',\n",
    "    'Unknown': 'Unknown',\n",
    "    'Backing': 'Backing',\n",
    "    'Other, see Narrative': 'Unknown',\n",
    "    'Making Left Turn': 'Left Turn/Right Turn',\n",
    "    'Making Right Turn': 'Left Turn/Right Turn',\n",
    "    'Changing Lanes': 'Changing Lanes',\n",
    "    'Stopped': 'Stopped/Parked',\n",
    "    'Parked': 'Stopped/Parked',\n",
    "    'Crossing into Opposing Lane': 'Road Departure / Wrong Way',\n",
    "    'Passing': 'Passing',\n",
    "    'Entering Traffic': 'Entering Traffic',\n",
    "    'Lane / Road Departure': 'Road Departure / Wrong Way',\n",
    "    'Traveling Wrong Way': 'Road Departure / Wrong Way',  \n",
    "    'Merging': 'Merging',\n",
    "    'NM Moving on Sidewalk ': 'Unknown'\n",
    "}\n",
    "\n",
    "df['CP Pre-Crash Movement']= df['CP Pre-Crash Movement'].map(veh_pre_crash_map)\n",
    "df['CP Pre-Crash Movement'].value_counts(dropna=False)"
   ]
  },
  {
   "cell_type": "code",
   "execution_count": 2123,
   "id": "368187fc",
   "metadata": {},
   "outputs": [],
   "source": [
    "df['CP Pre-Crash Movement'].fillna('Unknown', inplace=True)"
   ]
  },
  {
   "cell_type": "code",
   "execution_count": 2124,
   "id": "059874c2",
   "metadata": {},
   "outputs": [],
   "source": [
    "### Binning"
   ]
  },
  {
   "cell_type": "code",
   "execution_count": 2125,
   "id": "669ae690",
   "metadata": {},
   "outputs": [],
   "source": [
    "### Vehicle Incident Contact"
   ]
  },
  {
   "cell_type": "code",
   "execution_count": 2126,
   "id": "9a03b8f2",
   "metadata": {},
   "outputs": [],
   "source": [
    "# changing values to binary\n",
    "df['CP Contact Area - Rear Left'] = df['CP Contact Area - Rear Left'].map(lambda x:1 if x == 'Y' else 0)\n",
    "df['CP Contact Area - Left'] = df['CP Contact Area - Left'].map(lambda x:1 if x == 'Y' else 0)\n",
    "df['CP Contact Area - Front Left'] = df['CP Contact Area - Front Left'].map(lambda x:1 if x == 'Y' else 0)\n",
    "df['CP Contact Area - Rear'] = df['CP Contact Area - Rear'].map(lambda x:1 if x == 'Y' else 0)\n",
    "df['CP Contact Area - Top'] = df['CP Contact Area - Top'].map(lambda x:1 if x == 'Y' else 0)\n",
    "df['CP Contact Area - Front'] = df['CP Contact Area - Front'].map(lambda x:1 if x == 'Y' else 0)\n",
    "df['CP Contact Area - Rear Right'] = df['CP Contact Area - Rear Right'].map(lambda x:1 if x == 'Y' else 0)\n",
    "df['CP Contact Area - Right'] = df['CP Contact Area - Right'].map(lambda x:1 if x == 'Y' else 0)\n",
    "df['CP Contact Area - Front Right'] = df['CP Contact Area - Front Right'].map(lambda x:1 if x == 'Y' else 0)\n",
    "df['CP Contact Area - Bottom'] = df['CP Contact Area - Bottom'].map(lambda x:1 if x == 'Y' else 0)"
   ]
  },
  {
   "cell_type": "markdown",
   "id": "4c2fd30c",
   "metadata": {},
   "source": [
    "#### Redefining Front"
   ]
  },
  {
   "cell_type": "markdown",
   "id": "210a1585",
   "metadata": {},
   "source": [
    "CP Contact Area - Rear Left"
   ]
  },
  {
   "cell_type": "code",
   "execution_count": 2127,
   "id": "01f9dd76",
   "metadata": {},
   "outputs": [],
   "source": [
    "df['Vehicle Contact Front'] = df['CP Contact Area - Front Left'] + df['CP Contact Area - Front'] + df['CP Contact Area - Front Right']"
   ]
  },
  {
   "cell_type": "code",
   "execution_count": 2128,
   "id": "761b904c",
   "metadata": {
    "scrolled": true
   },
   "outputs": [
    {
     "data": {
      "text/plain": [
       "0    231\n",
       "1    133\n",
       "3     59\n",
       "2     34\n",
       "Name: Vehicle Contact Front, dtype: int64"
      ]
     },
     "execution_count": 2128,
     "metadata": {},
     "output_type": "execute_result"
    }
   ],
   "source": [
    "df['Vehicle Contact Front'].value_counts()"
   ]
  },
  {
   "cell_type": "code",
   "execution_count": 2129,
   "id": "427f52ef",
   "metadata": {},
   "outputs": [],
   "source": [
    "df['Vehicle Contact Front'] = df['Vehicle Contact Front'].map(lambda x:0 if x == 0 else 1)"
   ]
  },
  {
   "cell_type": "code",
   "execution_count": 2130,
   "id": "2f406d6e",
   "metadata": {
    "scrolled": true
   },
   "outputs": [
    {
     "data": {
      "text/plain": [
       "0    231\n",
       "1    226\n",
       "Name: Vehicle Contact Front, dtype: int64"
      ]
     },
     "execution_count": 2130,
     "metadata": {},
     "output_type": "execute_result"
    }
   ],
   "source": [
    "df['Vehicle Contact Front'].value_counts()"
   ]
  },
  {
   "cell_type": "markdown",
   "id": "a596c8c6",
   "metadata": {},
   "source": [
    "#### Redefining Rear"
   ]
  },
  {
   "cell_type": "code",
   "execution_count": 2131,
   "id": "669532c5",
   "metadata": {},
   "outputs": [],
   "source": [
    "df['Vehicle Contact Rear'] = df['CP Contact Area - Rear Left'] + df['CP Contact Area - Rear'] + df['CP Contact Area - Rear Right']"
   ]
  },
  {
   "cell_type": "code",
   "execution_count": 2132,
   "id": "f29bc1ed",
   "metadata": {
    "scrolled": true
   },
   "outputs": [
    {
     "data": {
      "text/plain": [
       "0    386\n",
       "1     69\n",
       "3      2\n",
       "Name: Vehicle Contact Rear, dtype: int64"
      ]
     },
     "execution_count": 2132,
     "metadata": {},
     "output_type": "execute_result"
    }
   ],
   "source": [
    "df['Vehicle Contact Rear'].value_counts()"
   ]
  },
  {
   "cell_type": "code",
   "execution_count": 2133,
   "id": "ac700c32",
   "metadata": {},
   "outputs": [],
   "source": [
    "df['Vehicle Contact Rear'] = df['Vehicle Contact Rear'].map(lambda x:0 if x == 0 else 1)"
   ]
  },
  {
   "cell_type": "code",
   "execution_count": 2134,
   "id": "2dfa8d80",
   "metadata": {
    "scrolled": true
   },
   "outputs": [
    {
     "data": {
      "text/plain": [
       "0    386\n",
       "1     71\n",
       "Name: Vehicle Contact Rear, dtype: int64"
      ]
     },
     "execution_count": 2134,
     "metadata": {},
     "output_type": "execute_result"
    }
   ],
   "source": [
    "df['Vehicle Contact Rear'].value_counts()"
   ]
  },
  {
   "cell_type": "markdown",
   "id": "46c69f91",
   "metadata": {},
   "source": [
    "#### Redefining Left"
   ]
  },
  {
   "cell_type": "code",
   "execution_count": 2135,
   "id": "a9e4f1e9",
   "metadata": {},
   "outputs": [],
   "source": [
    "df['Vehicle Contact Left'] = df['CP Contact Area - Left'] "
   ]
  },
  {
   "cell_type": "code",
   "execution_count": 2136,
   "id": "d117d979",
   "metadata": {},
   "outputs": [
    {
     "data": {
      "text/plain": [
       "0    419\n",
       "1     38\n",
       "Name: Vehicle Contact Left, dtype: int64"
      ]
     },
     "execution_count": 2136,
     "metadata": {},
     "output_type": "execute_result"
    }
   ],
   "source": [
    "df['Vehicle Contact Left'].value_counts()"
   ]
  },
  {
   "cell_type": "markdown",
   "id": "a26e205b",
   "metadata": {},
   "source": [
    "#### Redefining Right"
   ]
  },
  {
   "cell_type": "code",
   "execution_count": 2137,
   "id": "c15b1561",
   "metadata": {},
   "outputs": [],
   "source": [
    "df['Vehicle Contact Right'] = df['CP Contact Area - Right']"
   ]
  },
  {
   "cell_type": "code",
   "execution_count": 2138,
   "id": "8c53ed04",
   "metadata": {},
   "outputs": [
    {
     "data": {
      "text/plain": [
       "0    425\n",
       "1     32\n",
       "Name: Vehicle Contact Right, dtype: int64"
      ]
     },
     "execution_count": 2138,
     "metadata": {},
     "output_type": "execute_result"
    }
   ],
   "source": [
    "df['Vehicle Contact Right'].value_counts()"
   ]
  },
  {
   "cell_type": "code",
   "execution_count": 2139,
   "id": "f5ba7cc6",
   "metadata": {},
   "outputs": [],
   "source": [
    "#### Redefining Top/Bottom"
   ]
  },
  {
   "cell_type": "code",
   "execution_count": 2140,
   "id": "e5cb84f0",
   "metadata": {},
   "outputs": [],
   "source": [
    "df['Vehicle Contact Top/Bottom'] = df['CP Contact Area - Top'] + df['CP Contact Area - Bottom']"
   ]
  },
  {
   "cell_type": "code",
   "execution_count": 2141,
   "id": "c11ba353",
   "metadata": {
    "scrolled": true
   },
   "outputs": [
    {
     "data": {
      "text/plain": [
       "0    452\n",
       "1      5\n",
       "Name: Vehicle Contact Top/Bottom, dtype: int64"
      ]
     },
     "execution_count": 2141,
     "metadata": {},
     "output_type": "execute_result"
    }
   ],
   "source": [
    "df['Vehicle Contact Top/Bottom'].value_counts()"
   ]
  },
  {
   "cell_type": "code",
   "execution_count": 2142,
   "id": "18653ed0",
   "metadata": {},
   "outputs": [],
   "source": [
    "## Remaining Columns"
   ]
  },
  {
   "cell_type": "code",
   "execution_count": 2143,
   "id": "bec5b5d2",
   "metadata": {},
   "outputs": [],
   "source": [
    "#### Redefining 'SV Pre-Crash Movement'"
   ]
  },
  {
   "cell_type": "code",
   "execution_count": 2144,
   "id": "59571000",
   "metadata": {
    "scrolled": true
   },
   "outputs": [
    {
     "data": {
      "text/plain": [
       "Stopped                  179\n",
       "Proceeding Straight      168\n",
       "Making Left Turn          29\n",
       "Making Right Turn         24\n",
       "Other, see Narrative      19\n",
       "Changing Lanes            14\n",
       "Backing                   12\n",
       "Lane / Road Departure      6\n",
       "Entering Traffic           5\n",
       "Parked                     1\n",
       "Name: SV Pre-Crash Movement, dtype: int64"
      ]
     },
     "execution_count": 2144,
     "metadata": {},
     "output_type": "execute_result"
    }
   ],
   "source": [
    "df['SV Pre-Crash Movement'].value_counts(dropna=False)"
   ]
  },
  {
   "cell_type": "code",
   "execution_count": 2145,
   "id": "34f5e0b6",
   "metadata": {},
   "outputs": [
    {
     "data": {
      "text/plain": [
       "Stopped/Parked                180\n",
       "Proceeding Straight           168\n",
       "Left Turn/Right Turn           53\n",
       "Unknown                        19\n",
       "Changing Lanes                 14\n",
       "Backing                        12\n",
       "Road Departure / Wrong Way      6\n",
       "Entering Traffic                5\n",
       "Name: SV Pre-Crash Movement, dtype: int64"
      ]
     },
     "execution_count": 2145,
     "metadata": {},
     "output_type": "execute_result"
    }
   ],
   "source": [
    "# defining dictionary map and mapping\n",
    "precrash_map = {\n",
    "    'Proceeding Straight': 'Proceeding Straight',\n",
    "    'Stopped': 'Stopped/Parked',\n",
    "    'Unknown': 'Unknown',\n",
    "    'Making Left Turn': 'Left Turn/Right Turn',\n",
    "    'Making Right Turn': 'Left Turn/Right Turn',\n",
    "    'Other, see Narrative': 'Unknown',\n",
    "    'Changing Lanes': 'Changing Lanes',\n",
    "    'Backing': 'Backing',\n",
    "    'Entering Traffic': 'Entering Traffic',\n",
    "    'Lane / Road Departure': 'Road Departure / Wrong Way',\n",
    "    'Making U-Turn': 'Making U-Turn',\n",
    "    'Crossing into Opposing Lane': 'Road Departure / Wrong Way',\n",
    "    'Merging: Other': 'Merging',\n",
    "    'Parked': 'Stopped/Parked',\n",
    "}\n",
    "\n",
    "df['SV Pre-Crash Movement']= df['SV Pre-Crash Movement'].map(precrash_map)\n",
    "df['SV Pre-Crash Movement'].value_counts(dropna=False)"
   ]
  },
  {
   "cell_type": "markdown",
   "id": "68c46b4c",
   "metadata": {},
   "source": [
    "#### Redefining 'SV Were All Passengers Belted?'"
   ]
  },
  {
   "cell_type": "markdown",
   "id": "2e5a11e5",
   "metadata": {},
   "source": [
    "SV Were All Passengers Belted?  "
   ]
  },
  {
   "cell_type": "code",
   "execution_count": 2146,
   "id": "9285b5f2",
   "metadata": {
    "scrolled": false
   },
   "outputs": [
    {
     "data": {
      "text/plain": [
       "Yes                         397\n",
       "No Passengers in Vehicle     53\n",
       "No, see Narrative             6\n",
       "Unknown                       1\n",
       "Name: SV Were All Passengers Belted?, dtype: int64"
      ]
     },
     "execution_count": 2146,
     "metadata": {},
     "output_type": "execute_result"
    }
   ],
   "source": [
    "df['SV Were All Passengers Belted?'].value_counts(dropna=False)"
   ]
  },
  {
   "cell_type": "code",
   "execution_count": 2147,
   "id": "f9449070",
   "metadata": {},
   "outputs": [
    {
     "data": {
      "text/plain": [
       "Yes                         397\n",
       "No Passengers in Vehicle     53\n",
       "No                            6\n",
       "Unknown                       1\n",
       "Name: SV Were All Passengers Belted?, dtype: int64"
      ]
     },
     "execution_count": 2147,
     "metadata": {},
     "output_type": "execute_result"
    }
   ],
   "source": [
    "# defining dictionary map and mapping\n",
    "belt_map = {\n",
    "    'Yes': 'Yes',\n",
    "    'Unknown': 'Unknown',\n",
    "    'No Passengers in Vehicle': 'No Passengers in Vehicle',\n",
    "    'No, see Narrative': 'No',\n",
    "}\n",
    "\n",
    "df['SV Were All Passengers Belted?']= df['SV Were All Passengers Belted?'].map(belt_map)\n",
    "df['SV Were All Passengers Belted?'].value_counts(dropna=False)"
   ]
  },
  {
   "cell_type": "code",
   "execution_count": 2148,
   "id": "8ed3c7b5",
   "metadata": {},
   "outputs": [],
   "source": [
    "df['SV Were All Passengers Belted?'].fillna('Yes', inplace=True)"
   ]
  },
  {
   "cell_type": "markdown",
   "id": "02747731",
   "metadata": {},
   "source": [
    "#### Redefining 'SV Precrash Speed (MPH)'"
   ]
  },
  {
   "cell_type": "code",
   "execution_count": 2149,
   "id": "bcc4df12",
   "metadata": {
    "scrolled": true
   },
   "outputs": [
    {
     "data": {
      "text/plain": [
       "0.0     207\n",
       "1.0      23\n",
       "2.0      22\n",
       "4.0      14\n",
       "7.0      14\n",
       "9.0      13\n",
       "8.0      13\n",
       "18.0     13\n",
       "11.0     11\n",
       "13.0     11\n",
       "19.0      9\n",
       "3.0       9\n",
       "6.0       8\n",
       "10.0      8\n",
       "NaN       7\n",
       "25.0      6\n",
       "5.0       6\n",
       "21.0      6\n",
       "35.0      6\n",
       "15.0      5\n",
       "58.0      4\n",
       "59.0      4\n",
       "12.0      4\n",
       "62.0      4\n",
       "22.0      4\n",
       "50.0      3\n",
       "23.0      3\n",
       "55.0      2\n",
       "24.0      2\n",
       "61.0      2\n",
       "20.0      2\n",
       "45.0      2\n",
       "14.0      2\n",
       "51.0      2\n",
       "70.0      2\n",
       "65.0      2\n",
       "64.0      1\n",
       "17.0      1\n",
       "Name: SV Precrash Speed (MPH), dtype: int64"
      ]
     },
     "execution_count": 2149,
     "metadata": {},
     "output_type": "execute_result"
    }
   ],
   "source": [
    "df['SV Precrash Speed (MPH)'].value_counts(dropna=False)"
   ]
  },
  {
   "cell_type": "code",
   "execution_count": 2150,
   "id": "e0ec99a0",
   "metadata": {
    "scrolled": true
   },
   "outputs": [
    {
     "data": {
      "text/plain": [
       "(450, 44)"
      ]
     },
     "execution_count": 2150,
     "metadata": {},
     "output_type": "execute_result"
    }
   ],
   "source": [
    "# removing nulls\n",
    "df = df.dropna(subset=['SV Precrash Speed (MPH)']).copy()\n",
    "df.shape"
   ]
  },
  {
   "cell_type": "code",
   "execution_count": 2151,
   "id": "fa311c2f",
   "metadata": {},
   "outputs": [
    {
     "data": {
      "text/plain": [
       "0     207\n",
       "5      74\n",
       "10     56\n",
       "15     33\n",
       "20     25\n",
       "25     15\n",
       "65      9\n",
       "60      8\n",
       "35      6\n",
       "30      6\n",
       "55      4\n",
       "50      3\n",
       "70      2\n",
       "45      2\n",
       "Name: SV Precrash Speed (MPH), dtype: int64"
      ]
     },
     "execution_count": 2151,
     "metadata": {},
     "output_type": "execute_result"
    }
   ],
   "source": [
    "# defining dictionary map and mapping\n",
    "precrash_speed_map = {\n",
    "    0.0: 0,     \n",
    "    1.0: 5,      \n",
    "    2.0: 5,     \n",
    "    4.0: 5,       \n",
    "    7.0: 10,      \n",
    "    9.0: 10,       \n",
    "    8.0: 10,       \n",
    "    18.0: 20,      \n",
    "    11.0: 15,     \n",
    "    13.0: 15,     \n",
    "    19.0: 20,     \n",
    "    3.0: 5,       \n",
    "    6.0: 10,      \n",
    "    10.0: 10,            \n",
    "    25.0: 30,      \n",
    "    5.0: 5,      \n",
    "    21.0: 25,      \n",
    "    35.0: 35,     \n",
    "    15.0:15,      \n",
    "    58.0:60,      \n",
    "    59.0:60,      \n",
    "    12.0:15,      \n",
    "    62.0:65,     \n",
    "    22.0:25,      \n",
    "    50.0:50,      \n",
    "    23.0:25,      \n",
    "    55.0:55,      \n",
    "    24.0:25,     \n",
    "    61.0:65,      \n",
    "    20.0:20,      \n",
    "    45.0:45,      \n",
    "    14.0:15,      \n",
    "    51.0:55,      \n",
    "    70.0:70,      \n",
    "    65.0:65,      \n",
    "    64.0:65,      \n",
    "    17.0: 20     \n",
    "}\n",
    "\n",
    "df['SV Precrash Speed (MPH)']= df['SV Precrash Speed (MPH)'].map(precrash_speed_map)\n",
    "df['SV Precrash Speed (MPH)'].value_counts(dropna=False)"
   ]
  },
  {
   "cell_type": "markdown",
   "id": "de81cf3d",
   "metadata": {},
   "source": [
    "#### Other Vehicle Incident Contact\n",
    "#### Binning Columns"
   ]
  },
  {
   "cell_type": "code",
   "execution_count": 2152,
   "id": "9374bd16",
   "metadata": {},
   "outputs": [],
   "source": [
    "# changing values to binary\n",
    "df['SV Contact Area - Rear Left'] = df['SV Contact Area - Rear Left'].map(lambda x:1 if x == 'Y' else 0)\n",
    "df['SV Contact Area - Left'] = df['SV Contact Area - Left'].map(lambda x:1 if x == 'Y' else 0)\n",
    "df['SV Contact Area - Front Left'] = df['SV Contact Area - Front Left'].map(lambda x:1 if x == 'Y' else 0)\n",
    "df['SV Contact Area - Rear'] = df['SV Contact Area - Rear'].map(lambda x:1 if x == 'Y' else 0)\n",
    "df['SV Contact Area - Top'] = df['SV Contact Area - Top'].map(lambda x:1 if x == 'Y' else 0)\n",
    "df['SV Contact Area - Front'] = df['SV Contact Area - Front'].map(lambda x:1 if x == 'Y' else 0)\n",
    "df['SV Contact Area - Rear Right'] = df['SV Contact Area - Rear Right'].map(lambda x:1 if x == 'Y' else 0)\n",
    "df['SV Contact Area - Right'] = df['SV Contact Area - Right'].map(lambda x:1 if x == 'Y' else 0)\n",
    "df['SV Contact Area - Front Right'] = df['SV Contact Area - Front Right'].map(lambda x:1 if x == 'Y' else 0)\n",
    "df['SV Contact Area - Bottom'] = df['SV Contact Area - Bottom'].map(lambda x:1 if x == 'Y' else 0)"
   ]
  },
  {
   "cell_type": "code",
   "execution_count": 2153,
   "id": "a2a27f20",
   "metadata": {},
   "outputs": [],
   "source": [
    "#### Redefining SV Front"
   ]
  },
  {
   "cell_type": "code",
   "execution_count": 2154,
   "id": "a801dcb8",
   "metadata": {},
   "outputs": [],
   "source": [
    "df['Other Vehicle Contact Front'] = df['SV Contact Area - Front Left'] + df['SV Contact Area - Front'] + df['SV Contact Area - Front Right']"
   ]
  },
  {
   "cell_type": "code",
   "execution_count": 2155,
   "id": "8174d884",
   "metadata": {},
   "outputs": [
    {
     "data": {
      "text/plain": [
       "0    316\n",
       "1    105\n",
       "3     18\n",
       "2     11\n",
       "Name: Other Vehicle Contact Front, dtype: int64"
      ]
     },
     "execution_count": 2155,
     "metadata": {},
     "output_type": "execute_result"
    }
   ],
   "source": [
    "df['Other Vehicle Contact Front'].value_counts()"
   ]
  },
  {
   "cell_type": "code",
   "execution_count": 2156,
   "id": "89ba1fe9",
   "metadata": {},
   "outputs": [],
   "source": [
    "df['Other Vehicle Contact Front'] = df['Other Vehicle Contact Front'].map(lambda x:0 if x == 0 else 1)"
   ]
  },
  {
   "cell_type": "code",
   "execution_count": 2157,
   "id": "1557940d",
   "metadata": {},
   "outputs": [
    {
     "data": {
      "text/plain": [
       "0    316\n",
       "1    134\n",
       "Name: Other Vehicle Contact Front, dtype: int64"
      ]
     },
     "execution_count": 2157,
     "metadata": {},
     "output_type": "execute_result"
    }
   ],
   "source": [
    "df['Other Vehicle Contact Front'].value_counts()"
   ]
  },
  {
   "cell_type": "markdown",
   "id": "8ab9e14e",
   "metadata": {},
   "source": [
    "#### Redefining SV Rear"
   ]
  },
  {
   "cell_type": "code",
   "execution_count": 2158,
   "id": "4556ccce",
   "metadata": {},
   "outputs": [],
   "source": [
    "df['Other Vehicle Contact Rear'] = df['SV Contact Area - Rear Left'] + df['SV Contact Area - Rear'] + df['SV Contact Area - Rear Right']"
   ]
  },
  {
   "cell_type": "code",
   "execution_count": 2159,
   "id": "3015052c",
   "metadata": {},
   "outputs": [
    {
     "data": {
      "text/plain": [
       "1    187\n",
       "0    175\n",
       "2     45\n",
       "3     43\n",
       "Name: Other Vehicle Contact Rear, dtype: int64"
      ]
     },
     "execution_count": 2159,
     "metadata": {},
     "output_type": "execute_result"
    }
   ],
   "source": [
    "df['Other Vehicle Contact Rear'].value_counts()"
   ]
  },
  {
   "cell_type": "code",
   "execution_count": 2160,
   "id": "cacb1d25",
   "metadata": {},
   "outputs": [],
   "source": [
    "df['Other Vehicle Contact Rear'] = df['Other Vehicle Contact Rear'].map(lambda x:0 if x == 0 else 1)"
   ]
  },
  {
   "cell_type": "code",
   "execution_count": 2161,
   "id": "89b262cd",
   "metadata": {},
   "outputs": [
    {
     "data": {
      "text/plain": [
       "1    275\n",
       "0    175\n",
       "Name: Other Vehicle Contact Rear, dtype: int64"
      ]
     },
     "execution_count": 2161,
     "metadata": {},
     "output_type": "execute_result"
    }
   ],
   "source": [
    "df['Other Vehicle Contact Rear'].value_counts()"
   ]
  },
  {
   "cell_type": "markdown",
   "id": "3c8807cd",
   "metadata": {},
   "source": [
    "#### Redefining SV Left"
   ]
  },
  {
   "cell_type": "code",
   "execution_count": 2162,
   "id": "634d3b84",
   "metadata": {},
   "outputs": [],
   "source": [
    "df['Other Vehicle Contact Left'] = df['SV Contact Area - Left']"
   ]
  },
  {
   "cell_type": "code",
   "execution_count": 2163,
   "id": "5c15bbed",
   "metadata": {},
   "outputs": [
    {
     "data": {
      "text/plain": [
       "0    421\n",
       "1     29\n",
       "Name: Other Vehicle Contact Left, dtype: int64"
      ]
     },
     "execution_count": 2163,
     "metadata": {},
     "output_type": "execute_result"
    }
   ],
   "source": [
    "df['Other Vehicle Contact Left'].value_counts()"
   ]
  },
  {
   "cell_type": "markdown",
   "id": "ef54568a",
   "metadata": {},
   "source": [
    "#### Redefining SV Right"
   ]
  },
  {
   "cell_type": "code",
   "execution_count": 2164,
   "id": "0b5f8379",
   "metadata": {},
   "outputs": [],
   "source": [
    "df['Other Vehicle Contact Right'] = df['SV Contact Area - Right'] "
   ]
  },
  {
   "cell_type": "code",
   "execution_count": 2165,
   "id": "d0bcd68f",
   "metadata": {},
   "outputs": [
    {
     "data": {
      "text/plain": [
       "0    409\n",
       "1     41\n",
       "Name: Other Vehicle Contact Right, dtype: int64"
      ]
     },
     "execution_count": 2165,
     "metadata": {},
     "output_type": "execute_result"
    }
   ],
   "source": [
    "df['Other Vehicle Contact Right'].value_counts()"
   ]
  },
  {
   "cell_type": "markdown",
   "id": "0c1e5b0e",
   "metadata": {},
   "source": [
    "#### Redefining SV Top/Bottom"
   ]
  },
  {
   "cell_type": "code",
   "execution_count": 2166,
   "id": "a2c18f0c",
   "metadata": {},
   "outputs": [],
   "source": [
    "df['Other Vehicle Contact Top/Bottom'] = df['SV Contact Area - Top'] + df['SV Contact Area - Bottom'] "
   ]
  },
  {
   "cell_type": "code",
   "execution_count": 2167,
   "id": "91e0aab2",
   "metadata": {},
   "outputs": [
    {
     "data": {
      "text/plain": [
       "0    426\n",
       "1     24\n",
       "Name: Other Vehicle Contact Top/Bottom, dtype: int64"
      ]
     },
     "execution_count": 2167,
     "metadata": {},
     "output_type": "execute_result"
    }
   ],
   "source": [
    "df['Other Vehicle Contact Top/Bottom'].value_counts()"
   ]
  },
  {
   "cell_type": "code",
   "execution_count": 2168,
   "id": "c1977225",
   "metadata": {},
   "outputs": [],
   "source": [
    "df['Other Vehicle Contact Top/Bottom'] = df['Other Vehicle Contact Top/Bottom'].map(lambda x:0 if x == 0 else 1)"
   ]
  },
  {
   "cell_type": "code",
   "execution_count": 2169,
   "id": "4f037d3b",
   "metadata": {},
   "outputs": [
    {
     "data": {
      "text/plain": [
       "0    426\n",
       "1     24\n",
       "Name: Other Vehicle Contact Top/Bottom, dtype: int64"
      ]
     },
     "execution_count": 2169,
     "metadata": {},
     "output_type": "execute_result"
    }
   ],
   "source": [
    "df['Other Vehicle Contact Top/Bottom'].value_counts()"
   ]
  },
  {
   "cell_type": "code",
   "execution_count": 2170,
   "id": "3ce313f0",
   "metadata": {},
   "outputs": [
    {
     "name": "stdout",
     "output_type": "stream",
     "text": [
      "<class 'pandas.core.frame.DataFrame'>\n",
      "Int64Index: 450 entries, 0 to 515\n",
      "Data columns (total 49 columns):\n",
      " #   Column                            Non-Null Count  Dtype \n",
      "---  ------                            --------------  ----- \n",
      " 0   Make                              450 non-null    object\n",
      " 1   Driver / Operator Type            450 non-null    object\n",
      " 2   Operating Entity                  450 non-null    object\n",
      " 3   Incident Date                     450 non-null    object\n",
      " 4   Incident Time (24:00)             450 non-null    object\n",
      " 5   Roadway Type                      450 non-null    object\n",
      " 6   Roadway Surface                   450 non-null    object\n",
      " 7   Posted Speed Limit (MPH)          450 non-null    object\n",
      " 8   Lighting                          450 non-null    object\n",
      " 9   Weather - Clear                   450 non-null    int64 \n",
      " 10  Weather - Cloudy                  450 non-null    int64 \n",
      " 11  Weather - Rain                    450 non-null    int64 \n",
      " 12  Crash With                        450 non-null    object\n",
      " 13  Incident with Injury              450 non-null    int64 \n",
      " 14  CP Pre-Crash Movement             450 non-null    object\n",
      " 15  CP Contact Area - Rear Left       450 non-null    int64 \n",
      " 16  CP Contact Area - Left            450 non-null    int64 \n",
      " 17  CP Contact Area - Front Left      450 non-null    int64 \n",
      " 18  CP Contact Area - Rear            450 non-null    int64 \n",
      " 19  CP Contact Area - Top             450 non-null    int64 \n",
      " 20  CP Contact Area - Front           450 non-null    int64 \n",
      " 21  CP Contact Area - Rear Right      450 non-null    int64 \n",
      " 22  CP Contact Area - Right           450 non-null    int64 \n",
      " 23  CP Contact Area - Front Right     450 non-null    int64 \n",
      " 24  CP Contact Area - Bottom          450 non-null    int64 \n",
      " 25  SV Pre-Crash Movement             450 non-null    object\n",
      " 26  SV Were All Passengers Belted?    450 non-null    object\n",
      " 27  SV Precrash Speed (MPH)           450 non-null    int64 \n",
      " 28  SV Contact Area - Rear Left       450 non-null    int64 \n",
      " 29  SV Contact Area - Left            450 non-null    int64 \n",
      " 30  SV Contact Area - Front Left      450 non-null    int64 \n",
      " 31  SV Contact Area - Rear            450 non-null    int64 \n",
      " 32  SV Contact Area - Top             450 non-null    int64 \n",
      " 33  SV Contact Area - Front           450 non-null    int64 \n",
      " 34  SV Contact Area - Rear Right      450 non-null    int64 \n",
      " 35  SV Contact Area - Right           450 non-null    int64 \n",
      " 36  SV Contact Area - Front Right     450 non-null    int64 \n",
      " 37  SV Contact Area - Bottom          450 non-null    int64 \n",
      " 38  Weather - Rain/Cloudy             450 non-null    int64 \n",
      " 39  Vehicle Contact Front             450 non-null    int64 \n",
      " 40  Vehicle Contact Rear              450 non-null    int64 \n",
      " 41  Vehicle Contact Left              450 non-null    int64 \n",
      " 42  Vehicle Contact Right             450 non-null    int64 \n",
      " 43  Vehicle Contact Top/Bottom        450 non-null    int64 \n",
      " 44  Other Vehicle Contact Front       450 non-null    int64 \n",
      " 45  Other Vehicle Contact Rear        450 non-null    int64 \n",
      " 46  Other Vehicle Contact Left        450 non-null    int64 \n",
      " 47  Other Vehicle Contact Right       450 non-null    int64 \n",
      " 48  Other Vehicle Contact Top/Bottom  450 non-null    int64 \n",
      "dtypes: int64(36), object(13)\n",
      "memory usage: 175.8+ KB\n"
     ]
    }
   ],
   "source": [
    "df.info()"
   ]
  },
  {
   "cell_type": "markdown",
   "id": "a5f56ce3",
   "metadata": {},
   "source": [
    "Narrative"
   ]
  },
  {
   "cell_type": "code",
   "execution_count": 2171,
   "id": "512ec108",
   "metadata": {},
   "outputs": [],
   "source": [
    "# drop columns that were binned to other columns\n",
    "more_columns =  ['SV Contact Area - Rear Left', 'SV Contact Area - Left', 'SV Contact Area - Front Left','SV Contact Area - Rear','SV Contact Area - Top','SV Contact Area - Front','SV Contact Area - Rear Right','SV Contact Area - Right' ,'SV Contact Area - Front Right', 'SV Contact Area - Bottom'] "
   ]
  },
  {
   "cell_type": "code",
   "execution_count": 2172,
   "id": "fc676d65",
   "metadata": {
    "scrolled": true
   },
   "outputs": [],
   "source": [
    "df = df.drop(columns = more_columns)"
   ]
  },
  {
   "cell_type": "code",
   "execution_count": 2173,
   "id": "e762403d",
   "metadata": {},
   "outputs": [],
   "source": [
    "more_columns2 =  ['CP Contact Area - Rear Left', 'CP Contact Area - Left', 'CP Contact Area - Front Left','CP Contact Area - Rear','CP Contact Area - Top','CP Contact Area - Front','CP Contact Area - Rear Right','CP Contact Area - Right' ,'CP Contact Area - Front Right', 'CP Contact Area - Bottom', 'Weather - Clear', 'Weather - Cloudy', 'Weather - Rain'] "
   ]
  },
  {
   "cell_type": "code",
   "execution_count": 2174,
   "id": "2c75bdc7",
   "metadata": {},
   "outputs": [],
   "source": [
    "df = df.drop(columns = more_columns2)"
   ]
  },
  {
   "cell_type": "code",
   "execution_count": 2175,
   "id": "8bf7936b",
   "metadata": {
    "scrolled": true
   },
   "outputs": [
    {
     "name": "stdout",
     "output_type": "stream",
     "text": [
      "<class 'pandas.core.frame.DataFrame'>\n",
      "Int64Index: 450 entries, 0 to 515\n",
      "Data columns (total 26 columns):\n",
      " #   Column                            Non-Null Count  Dtype \n",
      "---  ------                            --------------  ----- \n",
      " 0   Make                              450 non-null    object\n",
      " 1   Driver / Operator Type            450 non-null    object\n",
      " 2   Operating Entity                  450 non-null    object\n",
      " 3   Incident Date                     450 non-null    object\n",
      " 4   Incident Time (24:00)             450 non-null    object\n",
      " 5   Roadway Type                      450 non-null    object\n",
      " 6   Roadway Surface                   450 non-null    object\n",
      " 7   Posted Speed Limit (MPH)          450 non-null    object\n",
      " 8   Lighting                          450 non-null    object\n",
      " 9   Crash With                        450 non-null    object\n",
      " 10  Incident with Injury              450 non-null    int64 \n",
      " 11  CP Pre-Crash Movement             450 non-null    object\n",
      " 12  SV Pre-Crash Movement             450 non-null    object\n",
      " 13  SV Were All Passengers Belted?    450 non-null    object\n",
      " 14  SV Precrash Speed (MPH)           450 non-null    int64 \n",
      " 15  Weather - Rain/Cloudy             450 non-null    int64 \n",
      " 16  Vehicle Contact Front             450 non-null    int64 \n",
      " 17  Vehicle Contact Rear              450 non-null    int64 \n",
      " 18  Vehicle Contact Left              450 non-null    int64 \n",
      " 19  Vehicle Contact Right             450 non-null    int64 \n",
      " 20  Vehicle Contact Top/Bottom        450 non-null    int64 \n",
      " 21  Other Vehicle Contact Front       450 non-null    int64 \n",
      " 22  Other Vehicle Contact Rear        450 non-null    int64 \n",
      " 23  Other Vehicle Contact Left        450 non-null    int64 \n",
      " 24  Other Vehicle Contact Right       450 non-null    int64 \n",
      " 25  Other Vehicle Contact Top/Bottom  450 non-null    int64 \n",
      "dtypes: int64(13), object(13)\n",
      "memory usage: 94.9+ KB\n"
     ]
    }
   ],
   "source": [
    "df.info()"
   ]
  },
  {
   "cell_type": "code",
   "execution_count": 2176,
   "id": "ac140141",
   "metadata": {},
   "outputs": [
    {
     "name": "stdout",
     "output_type": "stream",
     "text": [
      "Incident with Injury                1.000000\n",
      "Other Vehicle Contact Front         0.181678\n",
      "Other Vehicle Contact Rear          0.168213\n",
      "Vehicle Contact Left                0.123663\n",
      "Other Vehicle Contact Top/Bottom    0.096649\n",
      "Vehicle Contact Right               0.085378\n",
      "Vehicle Contact Rear                0.071520\n",
      "Weather - Rain/Cloudy               0.062984\n",
      "Vehicle Contact Front               0.056333\n",
      "Vehicle Contact Top/Bottom          0.043162\n",
      "SV Precrash Speed (MPH)             0.006503\n",
      "Other Vehicle Contact Right         0.003734\n",
      "Other Vehicle Contact Left          0.003225\n",
      "Name: Incident with Injury, dtype: float64\n"
     ]
    }
   ],
   "source": [
    "print(df.corr()['Incident with Injury'].abs().sort_values(ascending=False))"
   ]
  },
  {
   "cell_type": "code",
   "execution_count": 2177,
   "id": "faaca152",
   "metadata": {
    "scrolled": true
   },
   "outputs": [
    {
     "data": {
      "image/png": "[encoded data removed]",
      "text/plain": [
       "<Figure size 3168x2448 with 2 Axes>"
      ]
     },
     "metadata": {},
     "output_type": "display_data"
    }
   ],
   "source": [
    "with sns.axes_style(\"darkgrid\"):\n",
    "    fig, ax = plt.subplots(figsize=(44, 34))\n",
    "    \n",
    "    mask = np.triu(np.ones_like(df.corr(), dtype=bool))\n",
    "    ax = sns.heatmap(abs(df.corr()),mask=mask,annot=True);"
   ]
  },
  {
   "cell_type": "code",
   "execution_count": 2178,
   "id": "06e8f7a9",
   "metadata": {},
   "outputs": [
    {
     "name": "stdout",
     "output_type": "stream",
     "text": [
      "<class 'pandas.core.frame.DataFrame'>\n",
      "Int64Index: 450 entries, 0 to 515\n",
      "Data columns (total 26 columns):\n",
      " #   Column                            Non-Null Count  Dtype \n",
      "---  ------                            --------------  ----- \n",
      " 0   Make                              450 non-null    object\n",
      " 1   Driver / Operator Type            450 non-null    object\n",
      " 2   Operating Entity                  450 non-null    object\n",
      " 3   Incident Date                     450 non-null    object\n",
      " 4   Incident Time (24:00)             450 non-null    object\n",
      " 5   Roadway Type                      450 non-null    object\n",
      " 6   Roadway Surface                   450 non-null    object\n",
      " 7   Posted Speed Limit (MPH)          450 non-null    object\n",
      " 8   Lighting                          450 non-null    object\n",
      " 9   Crash With                        450 non-null    object\n",
      " 10  Incident with Injury              450 non-null    int64 \n",
      " 11  CP Pre-Crash Movement             450 non-null    object\n",
      " 12  SV Pre-Crash Movement             450 non-null    object\n",
      " 13  SV Were All Passengers Belted?    450 non-null    object\n",
      " 14  SV Precrash Speed (MPH)           450 non-null    int64 \n",
      " 15  Weather - Rain/Cloudy             450 non-null    int64 \n",
      " 16  Vehicle Contact Front             450 non-null    int64 \n",
      " 17  Vehicle Contact Rear              450 non-null    int64 \n",
      " 18  Vehicle Contact Left              450 non-null    int64 \n",
      " 19  Vehicle Contact Right             450 non-null    int64 \n",
      " 20  Vehicle Contact Top/Bottom        450 non-null    int64 \n",
      " 21  Other Vehicle Contact Front       450 non-null    int64 \n",
      " 22  Other Vehicle Contact Rear        450 non-null    int64 \n",
      " 23  Other Vehicle Contact Left        450 non-null    int64 \n",
      " 24  Other Vehicle Contact Right       450 non-null    int64 \n",
      " 25  Other Vehicle Contact Top/Bottom  450 non-null    int64 \n",
      "dtypes: int64(13), object(13)\n",
      "memory usage: 94.9+ KB\n"
     ]
    }
   ],
   "source": [
    "df.info()"
   ]
  },
  {
   "cell_type": "code",
   "execution_count": 2179,
   "id": "e32ac766",
   "metadata": {},
   "outputs": [],
   "source": [
    "# setting X, y for train-test-split\n",
    "target = 'Incident with Injury'\n",
    "X = df.drop(columns= target)\n",
    "y = df[target]\n",
    "\n",
    "# train-test-split, test_size = 25%, random_state = 42\n",
    "X_train, X_test, y_train, y_test = train_test_split(X, y, test_size = .25, random_state=42)"
   ]
  },
  {
   "cell_type": "code",
   "execution_count": 2180,
   "id": "835cb5ef",
   "metadata": {},
   "outputs": [],
   "source": [
    "#### Preprocessing Numeric Columns"
   ]
  },
  {
   "cell_type": "code",
   "execution_count": 2181,
   "id": "65aabecb",
   "metadata": {},
   "outputs": [
    {
     "data": {
      "text/plain": [
       "['SV Precrash Speed (MPH)',\n",
       " 'Weather - Rain/Cloudy',\n",
       " 'Vehicle Contact Front',\n",
       " 'Vehicle Contact Rear',\n",
       " 'Vehicle Contact Left',\n",
       " 'Vehicle Contact Right',\n",
       " 'Vehicle Contact Top/Bottom',\n",
       " 'Other Vehicle Contact Front',\n",
       " 'Other Vehicle Contact Rear',\n",
       " 'Other Vehicle Contact Left',\n",
       " 'Other Vehicle Contact Right',\n",
       " 'Other Vehicle Contact Top/Bottom']"
      ]
     },
     "execution_count": 2181,
     "metadata": {},
     "output_type": "execute_result"
    }
   ],
   "source": [
    "# list of numeric columns \n",
    "num_cols = df.drop(columns=target).select_dtypes('int64').columns.tolist()\n",
    "num_cols"
   ]
  },
  {
   "cell_type": "code",
   "execution_count": 2182,
   "id": "53bc3af3",
   "metadata": {},
   "outputs": [],
   "source": [
    "# creating a pipeline \n",
    "\n",
    "num_transform = Pipeline([('scale', StandardScaler())])"
   ]
  },
  {
   "cell_type": "code",
   "execution_count": 2183,
   "id": "0fb4e409",
   "metadata": {},
   "outputs": [],
   "source": [
    "#### Categorical Columns"
   ]
  },
  {
   "cell_type": "code",
   "execution_count": 2184,
   "id": "69b2df32",
   "metadata": {
    "scrolled": true
   },
   "outputs": [
    {
     "data": {
      "text/plain": [
       "['Make',\n",
       " 'Driver / Operator Type',\n",
       " 'Operating Entity',\n",
       " 'Incident Date',\n",
       " 'Incident Time (24:00)',\n",
       " 'Roadway Type',\n",
       " 'Roadway Surface',\n",
       " 'Posted Speed Limit (MPH)',\n",
       " 'Lighting',\n",
       " 'Crash With',\n",
       " 'CP Pre-Crash Movement',\n",
       " 'SV Pre-Crash Movement',\n",
       " 'SV Were All Passengers Belted?']"
      ]
     },
     "execution_count": 2184,
     "metadata": {},
     "output_type": "execute_result"
    }
   ],
   "source": [
    "# list of categorical columns \n",
    "cat_cols = df.drop(columns=target).select_dtypes('object').columns.tolist()\n",
    "cat_cols"
   ]
  },
  {
   "cell_type": "code",
   "execution_count": 2185,
   "id": "df4665c9",
   "metadata": {},
   "outputs": [],
   "source": [
    "# creating a pipeline\n",
    "# OneHotEncoder will scale the categorical data to a binary column\n",
    "cat_transform = Pipeline([('encoder', OneHotEncoder(sparse=False, handle_unknown='ignore'))])"
   ]
  },
  {
   "cell_type": "code",
   "execution_count": 2186,
   "id": "86e060bb",
   "metadata": {},
   "outputs": [],
   "source": [
    "# combine both pipelines into one using columntransformer \n",
    "preprocessor = ColumnTransformer([('num', num_transform, num_cols), \n",
    "                                  ('cat', cat_transform, cat_cols)],\n",
    "    remainder='passthrough'\n",
    ")"
   ]
  },
  {
   "cell_type": "code",
   "execution_count": 2187,
   "id": "fb719121",
   "metadata": {},
   "outputs": [],
   "source": [
    "\n",
    "\n",
    "# create final model with grid search best parameters\n",
    "gbc = imbPipeline([\n",
    "    ('preprocessor', preprocessor),\n",
    "    ('sampler', RandomOverSampler(sampling_strategy='minority', random_state=42)),\n",
    "    ('classifier', GradientBoostingClassifier(learning_rate=0.1, max_depth=3, n_estimators=100, random_state=42))\n",
    "])\n",
    "\n"
   ]
  },
  {
   "cell_type": "code",
   "execution_count": 2188,
   "id": "efc77eb1",
   "metadata": {
    "scrolled": true
   },
   "outputs": [
    {
     "ename": "TypeError",
     "evalue": "Encoders require their input to be uniformly strings or numbers. Got ['float', 'str']",
     "output_type": "error",
     "traceback": [
      "\u001b[0;31m---------------------------------------------------------------------------\u001b[0m",
      "\u001b[0;31mTypeError\u001b[0m                                 Traceback (most recent call last)",
      "\u001b[0;32m~/opt/anaconda3/envs/learn-env/lib/python3.8/site-packages/sklearn/utils/_encode.py\u001b[0m in \u001b[0;36m_unique_python\u001b[0;34m(values, return_inverse, return_counts)\u001b[0m\n\u001b[1;32m    172\u001b[0m \u001b[0;34m\u001b[0m\u001b[0m\n\u001b[0;32m--> 173\u001b[0;31m         \u001b[0muniques\u001b[0m \u001b[0;34m=\u001b[0m \u001b[0msorted\u001b[0m\u001b[0;34m(\u001b[0m\u001b[0muniques_set\u001b[0m\u001b[0;34m)\u001b[0m\u001b[0;34m\u001b[0m\u001b[0;34m\u001b[0m\u001b[0m\n\u001b[0m\u001b[1;32m    174\u001b[0m         \u001b[0muniques\u001b[0m\u001b[0;34m.\u001b[0m\u001b[0mextend\u001b[0m\u001b[0;34m(\u001b[0m\u001b[0mmissing_values\u001b[0m\u001b[0;34m.\u001b[0m\u001b[0mto_list\u001b[0m\u001b[0;34m(\u001b[0m\u001b[0;34m)\u001b[0m\u001b[0;34m)\u001b[0m\u001b[0;34m\u001b[0m\u001b[0;34m\u001b[0m\u001b[0m\n",
      "\u001b[0;31mTypeError\u001b[0m: '<' not supported between instances of 'str' and 'float'",
      "\nDuring handling of the above exception, another exception occurred:\n",
      "\u001b[0;31mTypeError\u001b[0m                                 Traceback (most recent call last)",
      "\u001b[0;32m<ipython-input-2188-1da9d3ad3ebf>\u001b[0m in \u001b[0;36m<module>\u001b[0;34m\u001b[0m\n\u001b[1;32m      1\u001b[0m \u001b[0;31m# train the best pipeline on the entire training set\u001b[0m\u001b[0;34m\u001b[0m\u001b[0;34m\u001b[0m\u001b[0;34m\u001b[0m\u001b[0m\n\u001b[0;32m----> 2\u001b[0;31m \u001b[0mgbc\u001b[0m\u001b[0;34m.\u001b[0m\u001b[0mfit\u001b[0m\u001b[0;34m(\u001b[0m\u001b[0mX_train\u001b[0m\u001b[0;34m,\u001b[0m \u001b[0my_train\u001b[0m\u001b[0;34m)\u001b[0m\u001b[0;34m\u001b[0m\u001b[0;34m\u001b[0m\u001b[0m\n\u001b[0m\u001b[1;32m      3\u001b[0m \u001b[0;34m\u001b[0m\u001b[0m\n",
      "\u001b[0;32m~/opt/anaconda3/envs/learn-env/lib/python3.8/site-packages/imblearn/pipeline.py\u001b[0m in \u001b[0;36mfit\u001b[0;34m(self, X, y, **fit_params)\u001b[0m\n\u001b[1;32m    275\u001b[0m             \u001b[0mThis\u001b[0m \u001b[0mestimator\u001b[0m\u001b[0;34m.\u001b[0m\u001b[0;34m\u001b[0m\u001b[0;34m\u001b[0m\u001b[0m\n\u001b[1;32m    276\u001b[0m         \"\"\"\n\u001b[0;32m--> 277\u001b[0;31m         \u001b[0mXt\u001b[0m\u001b[0;34m,\u001b[0m \u001b[0myt\u001b[0m\u001b[0;34m,\u001b[0m \u001b[0mfit_params\u001b[0m \u001b[0;34m=\u001b[0m \u001b[0mself\u001b[0m\u001b[0;34m.\u001b[0m\u001b[0m_fit\u001b[0m\u001b[0;34m(\u001b[0m\u001b[0mX\u001b[0m\u001b[0;34m,\u001b[0m \u001b[0my\u001b[0m\u001b[0;34m,\u001b[0m \u001b[0;34m**\u001b[0m\u001b[0mfit_params\u001b[0m\u001b[0;34m)\u001b[0m\u001b[0;34m\u001b[0m\u001b[0;34m\u001b[0m\u001b[0m\n\u001b[0m\u001b[1;32m    278\u001b[0m         with _print_elapsed_time('Pipeline',\n\u001b[1;32m    279\u001b[0m                                  self._log_message(len(self.steps) - 1)):\n",
      "\u001b[0;32m~/opt/anaconda3/envs/learn-env/lib/python3.8/site-packages/imblearn/pipeline.py\u001b[0m in \u001b[0;36m_fit\u001b[0;34m(self, X, y, **fit_params)\u001b[0m\n\u001b[1;32m    227\u001b[0m                 \u001b[0mcloned_transformer\u001b[0m\u001b[0;34m,\u001b[0m \u001b[0;34m\"fit_transform\"\u001b[0m\u001b[0;34m\u001b[0m\u001b[0;34m\u001b[0m\u001b[0m\n\u001b[1;32m    228\u001b[0m             ):\n\u001b[0;32m--> 229\u001b[0;31m                 X, fitted_transformer = fit_transform_one_cached(\n\u001b[0m\u001b[1;32m    230\u001b[0m                     \u001b[0mcloned_transformer\u001b[0m\u001b[0;34m,\u001b[0m \u001b[0mX\u001b[0m\u001b[0;34m,\u001b[0m \u001b[0my\u001b[0m\u001b[0;34m,\u001b[0m \u001b[0;32mNone\u001b[0m\u001b[0;34m,\u001b[0m\u001b[0;34m\u001b[0m\u001b[0;34m\u001b[0m\u001b[0m\n\u001b[1;32m    231\u001b[0m                     \u001b[0mmessage_clsname\u001b[0m\u001b[0;34m=\u001b[0m\u001b[0;34m'Pipeline'\u001b[0m\u001b[0;34m,\u001b[0m\u001b[0;34m\u001b[0m\u001b[0;34m\u001b[0m\u001b[0m\n",
      "\u001b[0;32m~/opt/anaconda3/envs/learn-env/lib/python3.8/site-packages/joblib/memory.py\u001b[0m in \u001b[0;36m__call__\u001b[0;34m(self, *args, **kwargs)\u001b[0m\n\u001b[1;32m    347\u001b[0m \u001b[0;34m\u001b[0m\u001b[0m\n\u001b[1;32m    348\u001b[0m     \u001b[0;32mdef\u001b[0m \u001b[0m__call__\u001b[0m\u001b[0;34m(\u001b[0m\u001b[0mself\u001b[0m\u001b[0;34m,\u001b[0m \u001b[0;34m*\u001b[0m\u001b[0margs\u001b[0m\u001b[0;34m,\u001b[0m \u001b[0;34m**\u001b[0m\u001b[0mkwargs\u001b[0m\u001b[0;34m)\u001b[0m\u001b[0;34m:\u001b[0m\u001b[0;34m\u001b[0m\u001b[0;34m\u001b[0m\u001b[0m\n\u001b[0;32m--> 349\u001b[0;31m         \u001b[0;32mreturn\u001b[0m \u001b[0mself\u001b[0m\u001b[0;34m.\u001b[0m\u001b[0mfunc\u001b[0m\u001b[0;34m(\u001b[0m\u001b[0;34m*\u001b[0m\u001b[0margs\u001b[0m\u001b[0;34m,\u001b[0m \u001b[0;34m**\u001b[0m\u001b[0mkwargs\u001b[0m\u001b[0;34m)\u001b[0m\u001b[0;34m\u001b[0m\u001b[0;34m\u001b[0m\u001b[0m\n\u001b[0m\u001b[1;32m    350\u001b[0m \u001b[0;34m\u001b[0m\u001b[0m\n\u001b[1;32m    351\u001b[0m     \u001b[0;32mdef\u001b[0m \u001b[0mcall_and_shelve\u001b[0m\u001b[0;34m(\u001b[0m\u001b[0mself\u001b[0m\u001b[0;34m,\u001b[0m \u001b[0;34m*\u001b[0m\u001b[0margs\u001b[0m\u001b[0;34m,\u001b[0m \u001b[0;34m**\u001b[0m\u001b[0mkwargs\u001b[0m\u001b[0;34m)\u001b[0m\u001b[0;34m:\u001b[0m\u001b[0;34m\u001b[0m\u001b[0;34m\u001b[0m\u001b[0m\n",
      "\u001b[0;32m~/opt/anaconda3/envs/learn-env/lib/python3.8/site-packages/sklearn/pipeline.py\u001b[0m in \u001b[0;36m_fit_transform_one\u001b[0;34m(transformer, X, y, weight, message_clsname, message, **fit_params)\u001b[0m\n\u001b[1;32m    868\u001b[0m     \u001b[0;32mwith\u001b[0m \u001b[0m_print_elapsed_time\u001b[0m\u001b[0;34m(\u001b[0m\u001b[0mmessage_clsname\u001b[0m\u001b[0;34m,\u001b[0m \u001b[0mmessage\u001b[0m\u001b[0;34m)\u001b[0m\u001b[0;34m:\u001b[0m\u001b[0;34m\u001b[0m\u001b[0;34m\u001b[0m\u001b[0m\n\u001b[1;32m    869\u001b[0m         \u001b[0;32mif\u001b[0m \u001b[0mhasattr\u001b[0m\u001b[0;34m(\u001b[0m\u001b[0mtransformer\u001b[0m\u001b[0;34m,\u001b[0m \u001b[0;34m\"fit_transform\"\u001b[0m\u001b[0;34m)\u001b[0m\u001b[0;34m:\u001b[0m\u001b[0;34m\u001b[0m\u001b[0;34m\u001b[0m\u001b[0m\n\u001b[0;32m--> 870\u001b[0;31m             \u001b[0mres\u001b[0m \u001b[0;34m=\u001b[0m \u001b[0mtransformer\u001b[0m\u001b[0;34m.\u001b[0m\u001b[0mfit_transform\u001b[0m\u001b[0;34m(\u001b[0m\u001b[0mX\u001b[0m\u001b[0;34m,\u001b[0m \u001b[0my\u001b[0m\u001b[0;34m,\u001b[0m \u001b[0;34m**\u001b[0m\u001b[0mfit_params\u001b[0m\u001b[0;34m)\u001b[0m\u001b[0;34m\u001b[0m\u001b[0;34m\u001b[0m\u001b[0m\n\u001b[0m\u001b[1;32m    871\u001b[0m         \u001b[0;32melse\u001b[0m\u001b[0;34m:\u001b[0m\u001b[0;34m\u001b[0m\u001b[0;34m\u001b[0m\u001b[0m\n\u001b[1;32m    872\u001b[0m             \u001b[0mres\u001b[0m \u001b[0;34m=\u001b[0m \u001b[0mtransformer\u001b[0m\u001b[0;34m.\u001b[0m\u001b[0mfit\u001b[0m\u001b[0;34m(\u001b[0m\u001b[0mX\u001b[0m\u001b[0;34m,\u001b[0m \u001b[0my\u001b[0m\u001b[0;34m,\u001b[0m \u001b[0;34m**\u001b[0m\u001b[0mfit_params\u001b[0m\u001b[0;34m)\u001b[0m\u001b[0;34m.\u001b[0m\u001b[0mtransform\u001b[0m\u001b[0;34m(\u001b[0m\u001b[0mX\u001b[0m\u001b[0;34m)\u001b[0m\u001b[0;34m\u001b[0m\u001b[0;34m\u001b[0m\u001b[0m\n",
      "\u001b[0;32m~/opt/anaconda3/envs/learn-env/lib/python3.8/site-packages/sklearn/compose/_column_transformer.py\u001b[0m in \u001b[0;36mfit_transform\u001b[0;34m(self, X, y)\u001b[0m\n\u001b[1;32m    688\u001b[0m         \u001b[0mself\u001b[0m\u001b[0;34m.\u001b[0m\u001b[0m_validate_remainder\u001b[0m\u001b[0;34m(\u001b[0m\u001b[0mX\u001b[0m\u001b[0;34m)\u001b[0m\u001b[0;34m\u001b[0m\u001b[0;34m\u001b[0m\u001b[0m\n\u001b[1;32m    689\u001b[0m \u001b[0;34m\u001b[0m\u001b[0m\n\u001b[0;32m--> 690\u001b[0;31m         \u001b[0mresult\u001b[0m \u001b[0;34m=\u001b[0m \u001b[0mself\u001b[0m\u001b[0;34m.\u001b[0m\u001b[0m_fit_transform\u001b[0m\u001b[0;34m(\u001b[0m\u001b[0mX\u001b[0m\u001b[0;34m,\u001b[0m \u001b[0my\u001b[0m\u001b[0;34m,\u001b[0m \u001b[0m_fit_transform_one\u001b[0m\u001b[0;34m)\u001b[0m\u001b[0;34m\u001b[0m\u001b[0;34m\u001b[0m\u001b[0m\n\u001b[0m\u001b[1;32m    691\u001b[0m \u001b[0;34m\u001b[0m\u001b[0m\n\u001b[1;32m    692\u001b[0m         \u001b[0;32mif\u001b[0m \u001b[0;32mnot\u001b[0m \u001b[0mresult\u001b[0m\u001b[0;34m:\u001b[0m\u001b[0;34m\u001b[0m\u001b[0;34m\u001b[0m\u001b[0m\n",
      "\u001b[0;32m~/opt/anaconda3/envs/learn-env/lib/python3.8/site-packages/sklearn/compose/_column_transformer.py\u001b[0m in \u001b[0;36m_fit_transform\u001b[0;34m(self, X, y, func, fitted, column_as_strings)\u001b[0m\n\u001b[1;32m    619\u001b[0m         )\n\u001b[1;32m    620\u001b[0m         \u001b[0;32mtry\u001b[0m\u001b[0;34m:\u001b[0m\u001b[0;34m\u001b[0m\u001b[0;34m\u001b[0m\u001b[0m\n\u001b[0;32m--> 621\u001b[0;31m             return Parallel(n_jobs=self.n_jobs)(\n\u001b[0m\u001b[1;32m    622\u001b[0m                 delayed(func)(\n\u001b[1;32m    623\u001b[0m                     \u001b[0mtransformer\u001b[0m\u001b[0;34m=\u001b[0m\u001b[0mclone\u001b[0m\u001b[0;34m(\u001b[0m\u001b[0mtrans\u001b[0m\u001b[0;34m)\u001b[0m \u001b[0;32mif\u001b[0m \u001b[0;32mnot\u001b[0m \u001b[0mfitted\u001b[0m \u001b[0;32melse\u001b[0m \u001b[0mtrans\u001b[0m\u001b[0;34m,\u001b[0m\u001b[0;34m\u001b[0m\u001b[0;34m\u001b[0m\u001b[0m\n",
      "\u001b[0;32m~/opt/anaconda3/envs/learn-env/lib/python3.8/site-packages/joblib/parallel.py\u001b[0m in \u001b[0;36m__call__\u001b[0;34m(self, iterable)\u001b[0m\n\u001b[1;32m   1044\u001b[0m                 \u001b[0mself\u001b[0m\u001b[0;34m.\u001b[0m\u001b[0m_iterating\u001b[0m \u001b[0;34m=\u001b[0m \u001b[0mself\u001b[0m\u001b[0;34m.\u001b[0m\u001b[0m_original_iterator\u001b[0m \u001b[0;32mis\u001b[0m \u001b[0;32mnot\u001b[0m \u001b[0;32mNone\u001b[0m\u001b[0;34m\u001b[0m\u001b[0;34m\u001b[0m\u001b[0m\n\u001b[1;32m   1045\u001b[0m \u001b[0;34m\u001b[0m\u001b[0m\n\u001b[0;32m-> 1046\u001b[0;31m             \u001b[0;32mwhile\u001b[0m \u001b[0mself\u001b[0m\u001b[0;34m.\u001b[0m\u001b[0mdispatch_one_batch\u001b[0m\u001b[0;34m(\u001b[0m\u001b[0miterator\u001b[0m\u001b[0;34m)\u001b[0m\u001b[0;34m:\u001b[0m\u001b[0;34m\u001b[0m\u001b[0;34m\u001b[0m\u001b[0m\n\u001b[0m\u001b[1;32m   1047\u001b[0m                 \u001b[0;32mpass\u001b[0m\u001b[0;34m\u001b[0m\u001b[0;34m\u001b[0m\u001b[0m\n\u001b[1;32m   1048\u001b[0m \u001b[0;34m\u001b[0m\u001b[0m\n",
      "\u001b[0;32m~/opt/anaconda3/envs/learn-env/lib/python3.8/site-packages/joblib/parallel.py\u001b[0m in \u001b[0;36mdispatch_one_batch\u001b[0;34m(self, iterator)\u001b[0m\n\u001b[1;32m    859\u001b[0m                 \u001b[0;32mreturn\u001b[0m \u001b[0;32mFalse\u001b[0m\u001b[0;34m\u001b[0m\u001b[0;34m\u001b[0m\u001b[0m\n\u001b[1;32m    860\u001b[0m             \u001b[0;32melse\u001b[0m\u001b[0;34m:\u001b[0m\u001b[0;34m\u001b[0m\u001b[0;34m\u001b[0m\u001b[0m\n\u001b[0;32m--> 861\u001b[0;31m                 \u001b[0mself\u001b[0m\u001b[0;34m.\u001b[0m\u001b[0m_dispatch\u001b[0m\u001b[0;34m(\u001b[0m\u001b[0mtasks\u001b[0m\u001b[0;34m)\u001b[0m\u001b[0;34m\u001b[0m\u001b[0;34m\u001b[0m\u001b[0m\n\u001b[0m\u001b[1;32m    862\u001b[0m                 \u001b[0;32mreturn\u001b[0m \u001b[0;32mTrue\u001b[0m\u001b[0;34m\u001b[0m\u001b[0;34m\u001b[0m\u001b[0m\n\u001b[1;32m    863\u001b[0m \u001b[0;34m\u001b[0m\u001b[0m\n",
      "\u001b[0;32m~/opt/anaconda3/envs/learn-env/lib/python3.8/site-packages/joblib/parallel.py\u001b[0m in \u001b[0;36m_dispatch\u001b[0;34m(self, batch)\u001b[0m\n\u001b[1;32m    777\u001b[0m         \u001b[0;32mwith\u001b[0m \u001b[0mself\u001b[0m\u001b[0;34m.\u001b[0m\u001b[0m_lock\u001b[0m\u001b[0;34m:\u001b[0m\u001b[0;34m\u001b[0m\u001b[0;34m\u001b[0m\u001b[0m\n\u001b[1;32m    778\u001b[0m             \u001b[0mjob_idx\u001b[0m \u001b[0;34m=\u001b[0m \u001b[0mlen\u001b[0m\u001b[0;34m(\u001b[0m\u001b[0mself\u001b[0m\u001b[0;34m.\u001b[0m\u001b[0m_jobs\u001b[0m\u001b[0;34m)\u001b[0m\u001b[0;34m\u001b[0m\u001b[0;34m\u001b[0m\u001b[0m\n\u001b[0;32m--> 779\u001b[0;31m             \u001b[0mjob\u001b[0m \u001b[0;34m=\u001b[0m \u001b[0mself\u001b[0m\u001b[0;34m.\u001b[0m\u001b[0m_backend\u001b[0m\u001b[0;34m.\u001b[0m\u001b[0mapply_async\u001b[0m\u001b[0;34m(\u001b[0m\u001b[0mbatch\u001b[0m\u001b[0;34m,\u001b[0m \u001b[0mcallback\u001b[0m\u001b[0;34m=\u001b[0m\u001b[0mcb\u001b[0m\u001b[0;34m)\u001b[0m\u001b[0;34m\u001b[0m\u001b[0;34m\u001b[0m\u001b[0m\n\u001b[0m\u001b[1;32m    780\u001b[0m             \u001b[0;31m# A job can complete so quickly than its callback is\u001b[0m\u001b[0;34m\u001b[0m\u001b[0;34m\u001b[0m\u001b[0;34m\u001b[0m\u001b[0m\n\u001b[1;32m    781\u001b[0m             \u001b[0;31m# called before we get here, causing self._jobs to\u001b[0m\u001b[0;34m\u001b[0m\u001b[0;34m\u001b[0m\u001b[0;34m\u001b[0m\u001b[0m\n",
      "\u001b[0;32m~/opt/anaconda3/envs/learn-env/lib/python3.8/site-packages/joblib/_parallel_backends.py\u001b[0m in \u001b[0;36mapply_async\u001b[0;34m(self, func, callback)\u001b[0m\n\u001b[1;32m    206\u001b[0m     \u001b[0;32mdef\u001b[0m \u001b[0mapply_async\u001b[0m\u001b[0;34m(\u001b[0m\u001b[0mself\u001b[0m\u001b[0;34m,\u001b[0m \u001b[0mfunc\u001b[0m\u001b[0;34m,\u001b[0m \u001b[0mcallback\u001b[0m\u001b[0;34m=\u001b[0m\u001b[0;32mNone\u001b[0m\u001b[0;34m)\u001b[0m\u001b[0;34m:\u001b[0m\u001b[0;34m\u001b[0m\u001b[0;34m\u001b[0m\u001b[0m\n\u001b[1;32m    207\u001b[0m         \u001b[0;34m\"\"\"Schedule a func to be run\"\"\"\u001b[0m\u001b[0;34m\u001b[0m\u001b[0;34m\u001b[0m\u001b[0m\n\u001b[0;32m--> 208\u001b[0;31m         \u001b[0mresult\u001b[0m \u001b[0;34m=\u001b[0m \u001b[0mImmediateResult\u001b[0m\u001b[0;34m(\u001b[0m\u001b[0mfunc\u001b[0m\u001b[0;34m)\u001b[0m\u001b[0;34m\u001b[0m\u001b[0;34m\u001b[0m\u001b[0m\n\u001b[0m\u001b[1;32m    209\u001b[0m         \u001b[0;32mif\u001b[0m \u001b[0mcallback\u001b[0m\u001b[0;34m:\u001b[0m\u001b[0;34m\u001b[0m\u001b[0;34m\u001b[0m\u001b[0m\n\u001b[1;32m    210\u001b[0m             \u001b[0mcallback\u001b[0m\u001b[0;34m(\u001b[0m\u001b[0mresult\u001b[0m\u001b[0;34m)\u001b[0m\u001b[0;34m\u001b[0m\u001b[0;34m\u001b[0m\u001b[0m\n",
      "\u001b[0;32m~/opt/anaconda3/envs/learn-env/lib/python3.8/site-packages/joblib/_parallel_backends.py\u001b[0m in \u001b[0;36m__init__\u001b[0;34m(self, batch)\u001b[0m\n\u001b[1;32m    570\u001b[0m         \u001b[0;31m# Don't delay the application, to avoid keeping the input\u001b[0m\u001b[0;34m\u001b[0m\u001b[0;34m\u001b[0m\u001b[0;34m\u001b[0m\u001b[0m\n\u001b[1;32m    571\u001b[0m         \u001b[0;31m# arguments in memory\u001b[0m\u001b[0;34m\u001b[0m\u001b[0;34m\u001b[0m\u001b[0;34m\u001b[0m\u001b[0m\n\u001b[0;32m--> 572\u001b[0;31m         \u001b[0mself\u001b[0m\u001b[0;34m.\u001b[0m\u001b[0mresults\u001b[0m \u001b[0;34m=\u001b[0m \u001b[0mbatch\u001b[0m\u001b[0;34m(\u001b[0m\u001b[0;34m)\u001b[0m\u001b[0;34m\u001b[0m\u001b[0;34m\u001b[0m\u001b[0m\n\u001b[0m\u001b[1;32m    573\u001b[0m \u001b[0;34m\u001b[0m\u001b[0m\n\u001b[1;32m    574\u001b[0m     \u001b[0;32mdef\u001b[0m \u001b[0mget\u001b[0m\u001b[0;34m(\u001b[0m\u001b[0mself\u001b[0m\u001b[0;34m)\u001b[0m\u001b[0;34m:\u001b[0m\u001b[0;34m\u001b[0m\u001b[0;34m\u001b[0m\u001b[0m\n",
      "\u001b[0;32m~/opt/anaconda3/envs/learn-env/lib/python3.8/site-packages/joblib/parallel.py\u001b[0m in \u001b[0;36m__call__\u001b[0;34m(self)\u001b[0m\n\u001b[1;32m    260\u001b[0m         \u001b[0;31m# change the default number of processes to -1\u001b[0m\u001b[0;34m\u001b[0m\u001b[0;34m\u001b[0m\u001b[0;34m\u001b[0m\u001b[0m\n\u001b[1;32m    261\u001b[0m         \u001b[0;32mwith\u001b[0m \u001b[0mparallel_backend\u001b[0m\u001b[0;34m(\u001b[0m\u001b[0mself\u001b[0m\u001b[0;34m.\u001b[0m\u001b[0m_backend\u001b[0m\u001b[0;34m,\u001b[0m \u001b[0mn_jobs\u001b[0m\u001b[0;34m=\u001b[0m\u001b[0mself\u001b[0m\u001b[0;34m.\u001b[0m\u001b[0m_n_jobs\u001b[0m\u001b[0;34m)\u001b[0m\u001b[0;34m:\u001b[0m\u001b[0;34m\u001b[0m\u001b[0;34m\u001b[0m\u001b[0m\n\u001b[0;32m--> 262\u001b[0;31m             return [func(*args, **kwargs)\n\u001b[0m\u001b[1;32m    263\u001b[0m                     for func, args, kwargs in self.items]\n\u001b[1;32m    264\u001b[0m \u001b[0;34m\u001b[0m\u001b[0m\n",
      "\u001b[0;32m~/opt/anaconda3/envs/learn-env/lib/python3.8/site-packages/joblib/parallel.py\u001b[0m in \u001b[0;36m<listcomp>\u001b[0;34m(.0)\u001b[0m\n\u001b[1;32m    260\u001b[0m         \u001b[0;31m# change the default number of processes to -1\u001b[0m\u001b[0;34m\u001b[0m\u001b[0;34m\u001b[0m\u001b[0;34m\u001b[0m\u001b[0m\n\u001b[1;32m    261\u001b[0m         \u001b[0;32mwith\u001b[0m \u001b[0mparallel_backend\u001b[0m\u001b[0;34m(\u001b[0m\u001b[0mself\u001b[0m\u001b[0;34m.\u001b[0m\u001b[0m_backend\u001b[0m\u001b[0;34m,\u001b[0m \u001b[0mn_jobs\u001b[0m\u001b[0;34m=\u001b[0m\u001b[0mself\u001b[0m\u001b[0;34m.\u001b[0m\u001b[0m_n_jobs\u001b[0m\u001b[0;34m)\u001b[0m\u001b[0;34m:\u001b[0m\u001b[0;34m\u001b[0m\u001b[0;34m\u001b[0m\u001b[0m\n\u001b[0;32m--> 262\u001b[0;31m             return [func(*args, **kwargs)\n\u001b[0m\u001b[1;32m    263\u001b[0m                     for func, args, kwargs in self.items]\n\u001b[1;32m    264\u001b[0m \u001b[0;34m\u001b[0m\u001b[0m\n",
      "\u001b[0;32m~/opt/anaconda3/envs/learn-env/lib/python3.8/site-packages/sklearn/utils/fixes.py\u001b[0m in \u001b[0;36m__call__\u001b[0;34m(self, *args, **kwargs)\u001b[0m\n\u001b[1;32m    115\u001b[0m     \u001b[0;32mdef\u001b[0m \u001b[0m__call__\u001b[0m\u001b[0;34m(\u001b[0m\u001b[0mself\u001b[0m\u001b[0;34m,\u001b[0m \u001b[0;34m*\u001b[0m\u001b[0margs\u001b[0m\u001b[0;34m,\u001b[0m \u001b[0;34m**\u001b[0m\u001b[0mkwargs\u001b[0m\u001b[0;34m)\u001b[0m\u001b[0;34m:\u001b[0m\u001b[0;34m\u001b[0m\u001b[0;34m\u001b[0m\u001b[0m\n\u001b[1;32m    116\u001b[0m         \u001b[0;32mwith\u001b[0m \u001b[0mconfig_context\u001b[0m\u001b[0;34m(\u001b[0m\u001b[0;34m**\u001b[0m\u001b[0mself\u001b[0m\u001b[0;34m.\u001b[0m\u001b[0mconfig\u001b[0m\u001b[0;34m)\u001b[0m\u001b[0;34m:\u001b[0m\u001b[0;34m\u001b[0m\u001b[0;34m\u001b[0m\u001b[0m\n\u001b[0;32m--> 117\u001b[0;31m             \u001b[0;32mreturn\u001b[0m \u001b[0mself\u001b[0m\u001b[0;34m.\u001b[0m\u001b[0mfunction\u001b[0m\u001b[0;34m(\u001b[0m\u001b[0;34m*\u001b[0m\u001b[0margs\u001b[0m\u001b[0;34m,\u001b[0m \u001b[0;34m**\u001b[0m\u001b[0mkwargs\u001b[0m\u001b[0;34m)\u001b[0m\u001b[0;34m\u001b[0m\u001b[0;34m\u001b[0m\u001b[0m\n\u001b[0m\u001b[1;32m    118\u001b[0m \u001b[0;34m\u001b[0m\u001b[0m\n\u001b[1;32m    119\u001b[0m \u001b[0;34m\u001b[0m\u001b[0m\n",
      "\u001b[0;32m~/opt/anaconda3/envs/learn-env/lib/python3.8/site-packages/sklearn/pipeline.py\u001b[0m in \u001b[0;36m_fit_transform_one\u001b[0;34m(transformer, X, y, weight, message_clsname, message, **fit_params)\u001b[0m\n\u001b[1;32m    868\u001b[0m     \u001b[0;32mwith\u001b[0m \u001b[0m_print_elapsed_time\u001b[0m\u001b[0;34m(\u001b[0m\u001b[0mmessage_clsname\u001b[0m\u001b[0;34m,\u001b[0m \u001b[0mmessage\u001b[0m\u001b[0;34m)\u001b[0m\u001b[0;34m:\u001b[0m\u001b[0;34m\u001b[0m\u001b[0;34m\u001b[0m\u001b[0m\n\u001b[1;32m    869\u001b[0m         \u001b[0;32mif\u001b[0m \u001b[0mhasattr\u001b[0m\u001b[0;34m(\u001b[0m\u001b[0mtransformer\u001b[0m\u001b[0;34m,\u001b[0m \u001b[0;34m\"fit_transform\"\u001b[0m\u001b[0;34m)\u001b[0m\u001b[0;34m:\u001b[0m\u001b[0;34m\u001b[0m\u001b[0;34m\u001b[0m\u001b[0m\n\u001b[0;32m--> 870\u001b[0;31m             \u001b[0mres\u001b[0m \u001b[0;34m=\u001b[0m \u001b[0mtransformer\u001b[0m\u001b[0;34m.\u001b[0m\u001b[0mfit_transform\u001b[0m\u001b[0;34m(\u001b[0m\u001b[0mX\u001b[0m\u001b[0;34m,\u001b[0m \u001b[0my\u001b[0m\u001b[0;34m,\u001b[0m \u001b[0;34m**\u001b[0m\u001b[0mfit_params\u001b[0m\u001b[0;34m)\u001b[0m\u001b[0;34m\u001b[0m\u001b[0;34m\u001b[0m\u001b[0m\n\u001b[0m\u001b[1;32m    871\u001b[0m         \u001b[0;32melse\u001b[0m\u001b[0;34m:\u001b[0m\u001b[0;34m\u001b[0m\u001b[0;34m\u001b[0m\u001b[0m\n\u001b[1;32m    872\u001b[0m             \u001b[0mres\u001b[0m \u001b[0;34m=\u001b[0m \u001b[0mtransformer\u001b[0m\u001b[0;34m.\u001b[0m\u001b[0mfit\u001b[0m\u001b[0;34m(\u001b[0m\u001b[0mX\u001b[0m\u001b[0;34m,\u001b[0m \u001b[0my\u001b[0m\u001b[0;34m,\u001b[0m \u001b[0;34m**\u001b[0m\u001b[0mfit_params\u001b[0m\u001b[0;34m)\u001b[0m\u001b[0;34m.\u001b[0m\u001b[0mtransform\u001b[0m\u001b[0;34m(\u001b[0m\u001b[0mX\u001b[0m\u001b[0;34m)\u001b[0m\u001b[0;34m\u001b[0m\u001b[0;34m\u001b[0m\u001b[0m\n",
      "\u001b[0;32m~/opt/anaconda3/envs/learn-env/lib/python3.8/site-packages/sklearn/pipeline.py\u001b[0m in \u001b[0;36mfit_transform\u001b[0;34m(self, X, y, **fit_params)\u001b[0m\n\u001b[1;32m    420\u001b[0m             \u001b[0mfit_params_last_step\u001b[0m \u001b[0;34m=\u001b[0m \u001b[0mfit_params_steps\u001b[0m\u001b[0;34m[\u001b[0m\u001b[0mself\u001b[0m\u001b[0;34m.\u001b[0m\u001b[0msteps\u001b[0m\u001b[0;34m[\u001b[0m\u001b[0;34m-\u001b[0m\u001b[0;36m1\u001b[0m\u001b[0;34m]\u001b[0m\u001b[0;34m[\u001b[0m\u001b[0;36m0\u001b[0m\u001b[0;34m]\u001b[0m\u001b[0;34m]\u001b[0m\u001b[0;34m\u001b[0m\u001b[0;34m\u001b[0m\u001b[0m\n\u001b[1;32m    421\u001b[0m             \u001b[0;32mif\u001b[0m \u001b[0mhasattr\u001b[0m\u001b[0;34m(\u001b[0m\u001b[0mlast_step\u001b[0m\u001b[0;34m,\u001b[0m \u001b[0;34m\"fit_transform\"\u001b[0m\u001b[0;34m)\u001b[0m\u001b[0;34m:\u001b[0m\u001b[0;34m\u001b[0m\u001b[0;34m\u001b[0m\u001b[0m\n\u001b[0;32m--> 422\u001b[0;31m                 \u001b[0;32mreturn\u001b[0m \u001b[0mlast_step\u001b[0m\u001b[0;34m.\u001b[0m\u001b[0mfit_transform\u001b[0m\u001b[0;34m(\u001b[0m\u001b[0mXt\u001b[0m\u001b[0;34m,\u001b[0m \u001b[0my\u001b[0m\u001b[0;34m,\u001b[0m \u001b[0;34m**\u001b[0m\u001b[0mfit_params_last_step\u001b[0m\u001b[0;34m)\u001b[0m\u001b[0;34m\u001b[0m\u001b[0;34m\u001b[0m\u001b[0m\n\u001b[0m\u001b[1;32m    423\u001b[0m             \u001b[0;32melse\u001b[0m\u001b[0;34m:\u001b[0m\u001b[0;34m\u001b[0m\u001b[0;34m\u001b[0m\u001b[0m\n\u001b[1;32m    424\u001b[0m                 \u001b[0;32mreturn\u001b[0m \u001b[0mlast_step\u001b[0m\u001b[0;34m.\u001b[0m\u001b[0mfit\u001b[0m\u001b[0;34m(\u001b[0m\u001b[0mXt\u001b[0m\u001b[0;34m,\u001b[0m \u001b[0my\u001b[0m\u001b[0;34m,\u001b[0m \u001b[0;34m**\u001b[0m\u001b[0mfit_params_last_step\u001b[0m\u001b[0;34m)\u001b[0m\u001b[0;34m.\u001b[0m\u001b[0mtransform\u001b[0m\u001b[0;34m(\u001b[0m\u001b[0mXt\u001b[0m\u001b[0;34m)\u001b[0m\u001b[0;34m\u001b[0m\u001b[0;34m\u001b[0m\u001b[0m\n",
      "\u001b[0;32m~/opt/anaconda3/envs/learn-env/lib/python3.8/site-packages/sklearn/preprocessing/_encoders.py\u001b[0m in \u001b[0;36mfit_transform\u001b[0;34m(self, X, y)\u001b[0m\n\u001b[1;32m    853\u001b[0m         \"\"\"\n\u001b[1;32m    854\u001b[0m         \u001b[0mself\u001b[0m\u001b[0;34m.\u001b[0m\u001b[0m_validate_keywords\u001b[0m\u001b[0;34m(\u001b[0m\u001b[0;34m)\u001b[0m\u001b[0;34m\u001b[0m\u001b[0;34m\u001b[0m\u001b[0m\n\u001b[0;32m--> 855\u001b[0;31m         \u001b[0;32mreturn\u001b[0m \u001b[0msuper\u001b[0m\u001b[0;34m(\u001b[0m\u001b[0;34m)\u001b[0m\u001b[0;34m.\u001b[0m\u001b[0mfit_transform\u001b[0m\u001b[0;34m(\u001b[0m\u001b[0mX\u001b[0m\u001b[0;34m,\u001b[0m \u001b[0my\u001b[0m\u001b[0;34m)\u001b[0m\u001b[0;34m\u001b[0m\u001b[0;34m\u001b[0m\u001b[0m\n\u001b[0m\u001b[1;32m    856\u001b[0m \u001b[0;34m\u001b[0m\u001b[0m\n\u001b[1;32m    857\u001b[0m     \u001b[0;32mdef\u001b[0m \u001b[0mtransform\u001b[0m\u001b[0;34m(\u001b[0m\u001b[0mself\u001b[0m\u001b[0;34m,\u001b[0m \u001b[0mX\u001b[0m\u001b[0;34m)\u001b[0m\u001b[0;34m:\u001b[0m\u001b[0;34m\u001b[0m\u001b[0;34m\u001b[0m\u001b[0m\n",
      "\u001b[0;32m~/opt/anaconda3/envs/learn-env/lib/python3.8/site-packages/sklearn/base.py\u001b[0m in \u001b[0;36mfit_transform\u001b[0;34m(self, X, y, **fit_params)\u001b[0m\n\u001b[1;32m    868\u001b[0m         \u001b[0;32melse\u001b[0m\u001b[0;34m:\u001b[0m\u001b[0;34m\u001b[0m\u001b[0;34m\u001b[0m\u001b[0m\n\u001b[1;32m    869\u001b[0m             \u001b[0;31m# fit method of arity 2 (supervised transformation)\u001b[0m\u001b[0;34m\u001b[0m\u001b[0;34m\u001b[0m\u001b[0;34m\u001b[0m\u001b[0m\n\u001b[0;32m--> 870\u001b[0;31m             \u001b[0;32mreturn\u001b[0m \u001b[0mself\u001b[0m\u001b[0;34m.\u001b[0m\u001b[0mfit\u001b[0m\u001b[0;34m(\u001b[0m\u001b[0mX\u001b[0m\u001b[0;34m,\u001b[0m \u001b[0my\u001b[0m\u001b[0;34m,\u001b[0m \u001b[0;34m**\u001b[0m\u001b[0mfit_params\u001b[0m\u001b[0;34m)\u001b[0m\u001b[0;34m.\u001b[0m\u001b[0mtransform\u001b[0m\u001b[0;34m(\u001b[0m\u001b[0mX\u001b[0m\u001b[0;34m)\u001b[0m\u001b[0;34m\u001b[0m\u001b[0;34m\u001b[0m\u001b[0m\n\u001b[0m\u001b[1;32m    871\u001b[0m \u001b[0;34m\u001b[0m\u001b[0m\n\u001b[1;32m    872\u001b[0m \u001b[0;34m\u001b[0m\u001b[0m\n",
      "\u001b[0;32m~/opt/anaconda3/envs/learn-env/lib/python3.8/site-packages/sklearn/preprocessing/_encoders.py\u001b[0m in \u001b[0;36mfit\u001b[0;34m(self, X, y)\u001b[0m\n\u001b[1;32m    816\u001b[0m         \"\"\"\n\u001b[1;32m    817\u001b[0m         \u001b[0mself\u001b[0m\u001b[0;34m.\u001b[0m\u001b[0m_validate_keywords\u001b[0m\u001b[0;34m(\u001b[0m\u001b[0;34m)\u001b[0m\u001b[0;34m\u001b[0m\u001b[0;34m\u001b[0m\u001b[0m\n\u001b[0;32m--> 818\u001b[0;31m         fit_results = self._fit(\n\u001b[0m\u001b[1;32m    819\u001b[0m             \u001b[0mX\u001b[0m\u001b[0;34m,\u001b[0m\u001b[0;34m\u001b[0m\u001b[0;34m\u001b[0m\u001b[0m\n\u001b[1;32m    820\u001b[0m             \u001b[0mhandle_unknown\u001b[0m\u001b[0;34m=\u001b[0m\u001b[0mself\u001b[0m\u001b[0;34m.\u001b[0m\u001b[0mhandle_unknown\u001b[0m\u001b[0;34m,\u001b[0m\u001b[0;34m\u001b[0m\u001b[0;34m\u001b[0m\u001b[0m\n",
      "\u001b[0;32m~/opt/anaconda3/envs/learn-env/lib/python3.8/site-packages/sklearn/preprocessing/_encoders.py\u001b[0m in \u001b[0;36m_fit\u001b[0;34m(self, X, handle_unknown, force_all_finite, return_counts)\u001b[0m\n\u001b[1;32m     97\u001b[0m \u001b[0;34m\u001b[0m\u001b[0m\n\u001b[1;32m     98\u001b[0m             \u001b[0;32mif\u001b[0m \u001b[0mself\u001b[0m\u001b[0;34m.\u001b[0m\u001b[0mcategories\u001b[0m \u001b[0;34m==\u001b[0m \u001b[0;34m\"auto\"\u001b[0m\u001b[0;34m:\u001b[0m\u001b[0;34m\u001b[0m\u001b[0;34m\u001b[0m\u001b[0m\n\u001b[0;32m---> 99\u001b[0;31m                 \u001b[0mresult\u001b[0m \u001b[0;34m=\u001b[0m \u001b[0m_unique\u001b[0m\u001b[0;34m(\u001b[0m\u001b[0mXi\u001b[0m\u001b[0;34m,\u001b[0m \u001b[0mreturn_counts\u001b[0m\u001b[0;34m=\u001b[0m\u001b[0mreturn_counts\u001b[0m\u001b[0;34m)\u001b[0m\u001b[0;34m\u001b[0m\u001b[0;34m\u001b[0m\u001b[0m\n\u001b[0m\u001b[1;32m    100\u001b[0m                 \u001b[0;32mif\u001b[0m \u001b[0mreturn_counts\u001b[0m\u001b[0;34m:\u001b[0m\u001b[0;34m\u001b[0m\u001b[0;34m\u001b[0m\u001b[0m\n\u001b[1;32m    101\u001b[0m                     \u001b[0mcats\u001b[0m\u001b[0;34m,\u001b[0m \u001b[0mcounts\u001b[0m \u001b[0;34m=\u001b[0m \u001b[0mresult\u001b[0m\u001b[0;34m\u001b[0m\u001b[0;34m\u001b[0m\u001b[0m\n",
      "\u001b[0;32m~/opt/anaconda3/envs/learn-env/lib/python3.8/site-packages/sklearn/utils/_encode.py\u001b[0m in \u001b[0;36m_unique\u001b[0;34m(values, return_inverse, return_counts)\u001b[0m\n\u001b[1;32m     39\u001b[0m     \"\"\"\n\u001b[1;32m     40\u001b[0m     \u001b[0;32mif\u001b[0m \u001b[0mvalues\u001b[0m\u001b[0;34m.\u001b[0m\u001b[0mdtype\u001b[0m \u001b[0;34m==\u001b[0m \u001b[0mobject\u001b[0m\u001b[0;34m:\u001b[0m\u001b[0;34m\u001b[0m\u001b[0;34m\u001b[0m\u001b[0m\n\u001b[0;32m---> 41\u001b[0;31m         return _unique_python(\n\u001b[0m\u001b[1;32m     42\u001b[0m             \u001b[0mvalues\u001b[0m\u001b[0;34m,\u001b[0m \u001b[0mreturn_inverse\u001b[0m\u001b[0;34m=\u001b[0m\u001b[0mreturn_inverse\u001b[0m\u001b[0;34m,\u001b[0m \u001b[0mreturn_counts\u001b[0m\u001b[0;34m=\u001b[0m\u001b[0mreturn_counts\u001b[0m\u001b[0;34m\u001b[0m\u001b[0;34m\u001b[0m\u001b[0m\n\u001b[1;32m     43\u001b[0m         )\n",
      "\u001b[0;32m~/opt/anaconda3/envs/learn-env/lib/python3.8/site-packages/sklearn/utils/_encode.py\u001b[0m in \u001b[0;36m_unique_python\u001b[0;34m(values, return_inverse, return_counts)\u001b[0m\n\u001b[1;32m    176\u001b[0m     \u001b[0;32mexcept\u001b[0m \u001b[0mTypeError\u001b[0m\u001b[0;34m:\u001b[0m\u001b[0;34m\u001b[0m\u001b[0;34m\u001b[0m\u001b[0m\n\u001b[1;32m    177\u001b[0m         \u001b[0mtypes\u001b[0m \u001b[0;34m=\u001b[0m \u001b[0msorted\u001b[0m\u001b[0;34m(\u001b[0m\u001b[0mt\u001b[0m\u001b[0;34m.\u001b[0m\u001b[0m__qualname__\u001b[0m \u001b[0;32mfor\u001b[0m \u001b[0mt\u001b[0m \u001b[0;32min\u001b[0m \u001b[0mset\u001b[0m\u001b[0;34m(\u001b[0m\u001b[0mtype\u001b[0m\u001b[0;34m(\u001b[0m\u001b[0mv\u001b[0m\u001b[0;34m)\u001b[0m \u001b[0;32mfor\u001b[0m \u001b[0mv\u001b[0m \u001b[0;32min\u001b[0m \u001b[0mvalues\u001b[0m\u001b[0;34m)\u001b[0m\u001b[0;34m)\u001b[0m\u001b[0;34m\u001b[0m\u001b[0;34m\u001b[0m\u001b[0m\n\u001b[0;32m--> 178\u001b[0;31m         raise TypeError(\n\u001b[0m\u001b[1;32m    179\u001b[0m             \u001b[0;34m\"Encoders require their input to be uniformly \"\u001b[0m\u001b[0;34m\u001b[0m\u001b[0;34m\u001b[0m\u001b[0m\n\u001b[1;32m    180\u001b[0m             \u001b[0;34mf\"strings or numbers. Got {types}\"\u001b[0m\u001b[0;34m\u001b[0m\u001b[0;34m\u001b[0m\u001b[0m\n",
      "\u001b[0;31mTypeError\u001b[0m: Encoders require their input to be uniformly strings or numbers. Got ['float', 'str']"
     ]
    }
   ],
   "source": [
    "\n",
    "\n",
    "# train the best pipeline on the entire training set \n",
    "gbc.fit(X_train, y_train)\n",
    "\n"
   ]
  },
  {
   "cell_type": "code",
   "execution_count": null,
   "id": "c26fcc57",
   "metadata": {},
   "outputs": [],
   "source": [
    "# classification report using function \n",
    "evaluate_classification(gbc,\n",
    "                        X_train, \n",
    "                        X_val, \n",
    "                        y_train, \n",
    "                        y_val, \n",
    "                        label='GBC')"
   ]
  },
  {
   "cell_type": "code",
   "execution_count": null,
   "id": "eb158f2f",
   "metadata": {},
   "outputs": [],
   "source": [
    "# combine both pipelines into one using columntransformer \n",
    "preprocessing = ColumnTransformer([('num', num_transform, num_cols), \n",
    "                                  ('cat', cat_transform, cat_cols)])\n",
    "\n",
    "# preprocessing X_train and X_test\n",
    "X_train_trans = preprocessing.fit_transform(X_train)\n",
    "X_test_trans = preprocessing.transform(X_test)"
   ]
  },
  {
   "cell_type": "code",
   "execution_count": null,
   "id": "0e77e278",
   "metadata": {},
   "outputs": [],
   "source": []
  }
 ],
 "metadata": {
  "kernelspec": {
   "display_name": "Python (learn-env)",
   "language": "python",
   "name": "learn-env"
  },
  "language_info": {
   "codemirror_mode": {
    "name": "ipython",
    "version": 3
   },
   "file_extension": ".py",
   "mimetype": "text/x-python",
   "name": "python",
   "nbconvert_exporter": "python",
   "pygments_lexer": "ipython3",
   "version": "3.8.5"
  }
 },
 "nbformat": 4,
 "nbformat_minor": 5
}
